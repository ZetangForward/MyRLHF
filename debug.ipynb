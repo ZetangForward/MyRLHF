{
 "cells": [
  {
   "cell_type": "code",
   "execution_count": 1,
   "metadata": {},
   "outputs": [],
   "source": [
    "import pickle, os\n",
    "def combine_pkl_files_to_one(dir_name, delete = True):\n",
    "    ret = {}\n",
    "    for file_name in os.listdir(dir_name):\n",
    "        if file_name ==\"full.pkl\":\n",
    "            continue\n",
    "        file_path = os.path.join(dir_name, file_name)\n",
    "        ret[file_name] = pickle.load(open(file_path,\"rb\"))\n",
    "\n",
    "        if delete:\n",
    "            os.remove(file_path)\n",
    "\n",
    "    pickle.dump(ret, open(f\"{dir_name}/full.pkl\",\"wb\"))\n",
    "\n",
    "\n",
    "def extract_pkl_files_from_one(dir_name, delete = True):\n",
    "    path = f\"{dir_name}/full.pkl\"\n",
    "    if not os.path.exists(path):return\n",
    "    files = pickle.load(open(path,\"rb\"))\n",
    "\n",
    "    for file_name, file in files.items():\n",
    "        if file_name ==\"full.pkl\":\n",
    "            continue\n",
    "        file_path = os.path.join(dir_name, file_name)\n",
    "        pickle.dump(file, open(file_path,\"wb\"))\n",
    "\n",
    "    if delete:\n",
    "        os.remove(f\"{dir_name}/full.pkl\")"
   ]
  },
  {
   "cell_type": "code",
   "execution_count": 6,
   "metadata": {},
   "outputs": [],
   "source": [
    "combine_pkl_files_to_one(\"/mnt/petrelfs/tangzecheng/repos/SaliencyResults/preliminary/babilong_random5x100/results/gws/meta-llama-3.1-8b/3900/label\")"
   ]
  },
  {
   "cell_type": "code",
   "execution_count": null,
   "metadata": {},
   "outputs": [],
   "source": [
    "pprint(content[2]['answer'])\n",
    "\n",
    "print(\"=\"*50)\n",
    "\n",
    "pprint(content[2]['pred'][0])\n"
   ]
  },
  {
   "cell_type": "code",
   "execution_count": null,
   "metadata": {},
   "outputs": [],
   "source": [
    "class benchmark_data:\n",
    "\n",
    "    def __init__(self, data_name, prediction_res):\n",
    "        self.data_name = data_name\n",
    "        self.content = self.init_data(data_name)\n",
    "\n",
    "    \n",
    "    def post_process(self):\n",
    "        raise NotImplementedError\n",
    "\n",
    "\n",
    "    def init_data(self, data_name):\n",
    "        raise NotImplementedError\n",
    "    \n",
    "\n",
    "    def get_item(self):\n",
    "        raise NotImplementedError\n",
    "    \n",
    "    def eval(self):\n",
    "        \n",
    "\n",
    "\n",
    "\n"
   ]
  }
 ],
 "metadata": {
  "kernelspec": {
   "display_name": "zecheng",
   "language": "python",
   "name": "python3"
  },
  "language_info": {
   "codemirror_mode": {
    "name": "ipython",
    "version": 3
   },
   "file_extension": ".py",
   "mimetype": "text/x-python",
   "name": "python",
   "nbconvert_exporter": "python",
   "pygments_lexer": "ipython3",
   "version": "3.10.4"
  }
 },
 "nbformat": 4,
 "nbformat_minor": 2
}
