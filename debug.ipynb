{
 "cells": [
  {
   "cell_type": "code",
   "execution_count": 10,
   "metadata": {},
   "outputs": [
    {
     "name": "stdout",
     "output_type": "stream",
     "text": [
      "\u001b[36mbegin to read data from /mnt/petrelfs/tangzecheng/local_data/processed_multi_hop/random_drop/inference_drop_1.pkl | file size: 118.54 MB | file type: pkl\u001b[0m\n"
     ]
    },
    {
     "data": {
      "text/plain": [
       "7000"
      ]
     },
     "execution_count": 10,
     "metadata": {},
     "output_type": "execute_result"
    }
   ],
   "source": [
    "from modelzipper.tutils import *\n",
    "from pprint import pprint\n",
    "content = auto_read_data(\"/mnt/petrelfs/tangzecheng/local_data/processed_multi_hop/random_drop/inference_drop_1.pkl\")\n",
    "len(content)"
   ]
  },
  {
   "cell_type": "code",
   "execution_count": 12,
   "metadata": {},
   "outputs": [
    {
     "data": {
      "text/plain": [
       "{'answer': 'Kidney transplantation poses a higher risk for developing melanoma compared to dialysis. This is because transplant recipients are often prescribed immunosuppressant medications, such as azathioprine, which can amplify the effects of ultraviolet radiation, potentially leading to melanoma. Additionally, the use of T-cell function-stopping medication at the time of transplant is associated with late-stage melanomas. While the risk of kidney and thyroid cancers is heightened for kidney failure patients on dialysis, the risk of melanoma is specifically higher following kidney transplantation and prior to transplant failure. Therefore, extra consideration for screening for melanoma may be necessary while taking immunosuppressant medications following a kidney transplant.',\n",
       " 'meta_data': {'clue_pos': [5, 2, 34, 29],\n",
       "  'clue_docs': [{'id': 'Blad_fc1STmBbcewFGor',\n",
       "    'content': 'Organ transplant recipients are twice as likely to develop melanoma as people who do not undergo a transplant, and three times more likely to die of the dangerous skin cancer, suggests new research led by a Johns Hopkins Bloomberg School of Public Health student.\\nThe findings, reported Aug. 13 in the Journal of Investigative Dermatology, suggest that the immunosuppressive medications that transplant recipients receive to keep them from rejecting their new organs -- especially the high doses administered at the time of transplant -- may make them more susceptible to later stage cancers that are harder to cure. The researchers found that transplant recipients were four times more likely to be diagnosed with regional stage melanoma, which has already begun to spread to other parts of the body.\\n\"We knew that melanoma was more likely in transplant recipients, but we thought it might be a function of intensive screening since they are very likely to develop less deadly forms of skin cancer and are checked regularly by dermatologists,\" says Hilary A. Robbins, MSPH, a PhD student in the Department of Epidemiology at the Bloomberg School who conducted much of the research while working at the National Cancer Institute. \"To the contrary, we were surprised to see that transplant recipients were particularly at risk for developing melanomas that weren\\'t found until they had already spread.\"\\nThe researchers were also surprised to see that the risk of aggressive melanomas was especially increased within the first four years after transplant. Previously, they thought that immunosuppressant medications might act cumulatively and that these cancers would be more likely after many years of taking the drugs. Transplant patients must take immunosuppressant medications for the rest of their lives to prevent organ rejection.\\nIn 2011, there were more than 65,000 cases of melanoma in the United States, making it the deadliest form of skin cancer, according to the Centers for Disease Control and Prevention. Melanoma can spread to other parts of the body and causes over 9,000 deaths every year. It is most commonly linked to exposure to the ultraviolet rays given off by the sun.\\nSome types of cancer are more common among immune-suppressed people, such as those infected with HIV and transplant recipients. But Robbins says these are typically cancers that are linked to viruses like cervical cancer, Kaposi\\'s sarcoma and lymphoma. Melanoma is not linked to a virus.\\nFor their research, Robbins and the team studied 139,991 non-Hispanic white transplant recipients in the Transplant Cancer Match Study, which is led by Eric A. Engels, MD, MPH, a senior investigator at the National Cancer Institute. The study links the Scientific Registry of Transplant Recipients, which captures data on all transplants in the United States, with 15 population-based cancer registries, and includes information on almost half of the country\\'s transplant population between 1987 and 2010. The researchers found 519 melanomas in this group and analyzed risk factors for developing melanoma.\\nUsing a different data set, the researchers compared outcomes among 182 melanoma patients in the transplant group with more than 130,000 other people with melanoma. Over 15 years, 27 percent of the transplant recipients died of their melanoma, as compared to 12 percent of the non-recipients. The researchers found that melanoma patients who had received a transplant were three times more likely to die from their melanoma, even for melanomas that were diagnosed at an early stage or were very small.\\nThe researchers found that the late-stage cases of melanoma were associated with use of medication given at the time of transplant that essentially stops T-cells -- the main cells of immune response -- from functioning in order to keep them from attacking the new organ. Meanwhile, early-stage melanomas were more likely to be found in recipients who were administered a medication called azathioprine, a maintenance drug given long term to some transplant recipients. This drug is known to multiply the effects of ultraviolet radiation, which could lead to the development of melanoma.\\nRobbins says her group\\'s findings suggest that transplant candidates should be screened very carefully for skin cancers before receiving their transplant. She says it is possible that some of the melanomas could have been present at the time of transplant, but that immunosuppressive drugs allowed them to spread unchecked. She also says that closer monitoring after transplant could allow melanoma to be detected earlier, preventing patients from developing deadly metastatic cancer.\\nMany researchers are working to develop transplant protocols that reduce or even eliminate the need for lifelong immunosuppressive medications, as these make organ recipients more likely to develop other medical problems.'},\n",
       "   {'id': 'Blad_fE1STmBbcewFGlw',\n",
       "    'content': 'Kidney transplant patients appear to be at a greater risk of developing melanoma than the general population and risk factors include being older, male and white, findings that corroborate results demonstrated in other studies, according to a new article published by\\nLifelong immunosuppressive therapy is among the complex lifestyle changes faced by renal transplant patients. The type, intensity and duration of immunosuppressive therapy contribute to the risk of developing skin cancer, such as melanoma, after transplantation.\\nIn the study, Mona Ascha, M.D., of University Hospitals Cleveland Medical Center, Ohio, and coauthors used a database of a group of renal transplant recipients from 2004 through 2012. The authors examined incidence and risk factors for melanoma.\\nOf 105,174 patients who received kidney transplants between 2004 and 2012, 488 (0.4 percent) had a record of melanoma after transplant, the authors report.\\nMost of the patients with melanoma were men, and the patients with melanoma were, on average, about 11 years older than those without melanoma. Almost all of the patients with melanoma were white and they were more likely to be taking the common immunosuppressants cyclosporine or sirolimus than those without melanoma. The group of patients who developed melanoma also had a greater proportion of living donors, according to the results.\\nStudy limitations include that authors were unable to assess certain risk factors for melanoma not captured in the data, including information regarding lifetime sun exposure.\\n\"Renal transplant recipients had greater risk of developing melanoma than the general population. We believe that the risk factors we identified can guide clinicians in providing adequate care for patients in this vulnerable group,\" the article concludes.'},\n",
       "   {'id': 'Blad_fc1STmBbcewFGoS',\n",
       "    'content': 'For patients with kidney failure, poor kidney function and immunosuppressant medications may increase their risk of developing different types of cancer. The findings, which are published in a study appearing in an upcoming issue of the\\nPeople with kidney failure are at increased risk of developing different types of cancer, which might be due to a variety of factors related to their disease and the treatments they receive. Often these patients undergo intervals of dialysis followed by transplantation, and then they return to dialysis if the transplant fails. Understanding how these different exposures correspond to cancer risk can help inform cancer prevention and screening decisions for patients and can provide insights into the underlying causes of cancer.\\nTo investigate, Elizabeth Yanik, PhD, ScM (National Cancer Institute) and her colleagues evaluated information on 202,195 kidney transplant candidates and recipients by linking the Scientific Registry of Transplant Recipients to various US population-based cancer registries. For a number of cancers, the team observed clear patterns of risk that corresponded to different treatment intervals. For example, risk of kidney and thyroid cancers was high across all intervals, but the risk was particularly heightened when individuals were on dialysis. Conversely, risk of non-Hodgkin lymphoma, melanoma, lung cancer, and certain skin cancers was highest following kidney transplantation and--for those who experienced it-- prior to transplant failure. This may have been due to the effects of immunosuppressant medications that are needed while living with a functioning kidney transplant.\\nThese findings reveal that kidney dysfunction and immunosuppressant medications can have important effects on cancer incidence in patients with kidney failure.\\n\"Our study indicates that the needs of individuals with end-stage renal disease, in terms of cancer prevention and cancer screening, will likely differ over time,\" said Dr. Yanik. \"Vigilance for kidney cancer and thyroid cancer may be of particular importance while these individuals are on dialysis. Extra consideration for screening for melanoma or lung cancer may be called for while taking immunosuppressant medications following a kidney transplant.\"\\nIn an accompanying editorial, Wai Lim, PhD (University of Western Australia) and Steven Chadban, PhD (University of Sydney) noted that \"the epidemiologic insights provided by Yanik et al. may have important implications for the pathogenesis and mechanism of cancer development in patients.\"'},\n",
       "   {'id': 'Blad_hI1STmBbcoyLxdi',\n",
       "    'content': 'Researchers who investigated the level of kidney function and subsequent cancer risk in more than one million adults have found that reduced glomerular filtration rate (GFR) -- a key measure of reduced kidney function and chronic kidney disease (CKD) -- is an independent risk factor for renal and urothelial cancer but not other cancer types.\\nThe retrospective study of almost 1.2 million adult members of the Kaiser Permanente healthcare system was conducted by the Kaiser Permanente Division of Research, the University of Utah\\'s Huntsman Cancer Institute and Memorial Sloan Kettering Cancer Center, and published online in the Journal of the American Society of Nephrology.\\nChronic kidney disease and cancer are both major and growing public health problems. The incidence of chronic kidney disease continues to rise, with an estimated 11.5 percent of the U.S. population having reduced glomerular filtration rate, and approximately 13.5 million Americans with stage 3 or worse chronic kidney disease.\\n\"While multiple studies have observed higher risks of cancer in persons with end-stage renal disease, the association of less severe kidney disease with cancer remains poorly understood,\" said lead author William Lowrance, MD, MPH, investigator at the University of Utah\\'s Huntsman Cancer Institute. \"These findings address that knowledge gap.\"\\nInvestigators studied 1,190,538 adults aged 40 years and older with known kidney function and no history of cancer, dialysis or renal transplantation. Median follow-up of the cohort between 2000 and 2008 was 5.3 years. At their entry point to the study, patients with lower GFR were more likely to be older, be persons of color, be current or former smokers, have lower socioeconomic status, and have a higher burden of comorbidity.\\nDuring follow-up, a total of 76,809 incident cancers were documented among 72,875 subjects (38,744 men and 34,131 women). Compared with GFR (in ml/min/1.73 m2) of 60 to 89, there was an increased rate of incident renal cancer, ranging from a 39 percent increased rate for GFR of 45 to 59 to a more than two-fold increased rate for GFR less than 30. This increased rate was of greater magnitude for clear cell renal cancer as compared with non-clear cell renal cancer.\\nCompared with GFR of 60 to 89, researchers also found that GFR less than 30 was associated with a 48 percent increased rate of urothelial cancer. However, GFR levels below 60 were not significantly associated with prostate, colorectal, lung, breast or any cancer.\\nThe researchers say several possible biologic mechanisms may help to explain the association between level of kidney function and renal or urothelial cancers. Kidney dysfunction results in a state of chronic inflammation and oxidative stress, and such an inflammatory microenvironment may play a role in cancer development. Severe chronic kidney disease may additionally create a relative state of immunodeficiency, which could influence the development of cancer.\\n\"These and other mechanisms deserve further study in order to better define the link between kidney function and site-specific cancer risk,\" said Paul Russo, MD, FACS, study co-author and urologic surgeon at Memorial Sloan Kettering. \"The stronger association of GFR and clear cell renal cancer as compared with non-clear cell provides new insights into the biologic underpinnings of the association of chronic kidney disease and renal cancer.\"\\nAs for the clinical implications of the findings, Juan Ordonez, MD, study co-author and Chair of the Chiefs of Nephrology for Kaiser Permanente Northern California, said, \"If GFR is associated with an increased risk of renal and urothelial cancer, then it could have implications for directing cancer screening efforts in select populations. Currently, there are no evidence-based cancer screening recommendations tailored for patients with chronic kidney disease. Additional studies are needed to clarify the reasons for this association and help us assess the potential advantage of targeted cancer screening in patients with chronic kidney disease.\"'}],\n",
       "  'question': 'Which treatment for kidney failure, dialysis or kidney transplantation, poses a higher risk for developing melanoma and why?'},\n",
       " 'selected_ids': [2, 1, 0],\n",
       " 'pred': ['Based on the given passage about kidney transplant patients being at a greater risk of developing melanoma, the passage does not explicitly compare the risk of melanoma between dialysis and kidney transplantation. However, it does mention that kidney transplant patients are at a greater risk of developing melanoma due to immunosuppressant medications. \\n\\nHowever, the passage \"For patients with kidney failure, poor kidney function and immunosuppressant medications may increase their risk of developing different types of cancer\" implies that both dialysis and immunosuppressant medications may increase the risk of cancer.']}"
      ]
     },
     "execution_count": 12,
     "metadata": {},
     "output_type": "execute_result"
    }
   ],
   "source": [
    "content[2]"
   ]
  },
  {
   "cell_type": "code",
   "execution_count": 11,
   "metadata": {},
   "outputs": [
    {
     "name": "stdout",
     "output_type": "stream",
     "text": [
      "('Kidney transplantation poses a higher risk for developing melanoma compared '\n",
      " 'to dialysis. This is because transplant recipients are often prescribed '\n",
      " 'immunosuppressant medications, such as azathioprine, which can amplify the '\n",
      " 'effects of ultraviolet radiation, potentially leading to melanoma. '\n",
      " 'Additionally, the use of T-cell function-stopping medication at the time of '\n",
      " 'transplant is associated with late-stage melanomas. While the risk of kidney '\n",
      " 'and thyroid cancers is heightened for kidney failure patients on dialysis, '\n",
      " 'the risk of melanoma is specifically higher following kidney transplantation '\n",
      " 'and prior to transplant failure. Therefore, extra consideration for '\n",
      " 'screening for melanoma may be necessary while taking immunosuppressant '\n",
      " 'medications following a kidney transplant.')\n",
      "==================================================\n",
      "('Based on the given passage about kidney transplant patients being at a '\n",
      " 'greater risk of developing melanoma, the passage does not explicitly compare '\n",
      " 'the risk of melanoma between dialysis and kidney transplantation. However, '\n",
      " 'it does mention that kidney transplant patients are at a greater risk of '\n",
      " 'developing melanoma due to immunosuppressant medications. \\n'\n",
      " '\\n'\n",
      " 'However, the passage \"For patients with kidney failure, poor kidney function '\n",
      " 'and immunosuppressant medications may increase their risk of developing '\n",
      " 'different types of cancer\" implies that both dialysis and immunosuppressant '\n",
      " 'medications may increase the risk of cancer.')\n"
     ]
    }
   ],
   "source": [
    "pprint(content[2]['answer'])\n",
    "\n",
    "print(\"=\"*50)\n",
    "\n",
    "pprint(content[2]['pred'][0])\n"
   ]
  },
  {
   "cell_type": "code",
   "execution_count": 8,
   "metadata": {},
   "outputs": [
    {
     "data": {
      "text/plain": [
       "{'question': 'The football is in the kitchen.',\n",
       " 'input': 'Mary journeyed to the bathroom. Sandra went to the garden. Daniel went back to the garden. Daniel went to the office. Sandra grabbed the milk there. Sandra put down the milk there. Daniel went to the hallway. Sandra got the milk there. Daniel went to the garden. Daniel journeyed to the kitchen. Daniel journeyed to the bedroom. Mary journeyed to the garden. Daniel took the football there. Mary moved to the office. Sandra travelled to the bedroom. Daniel dropped the football. Sandra left the milk there. Daniel grabbed the football there. Sandra grabbed the milk there. Daniel went to the kitchen.',\n",
       " 'golden': 'yes'}"
      ]
     },
     "execution_count": 8,
     "metadata": {},
     "output_type": "execute_result"
    }
   ],
   "source": [
    "content['qa2']['0k']['datas'][0]"
   ]
  }
 ],
 "metadata": {
  "kernelspec": {
   "display_name": "zecheng_new",
   "language": "python",
   "name": "python3"
  },
  "language_info": {
   "codemirror_mode": {
    "name": "ipython",
    "version": 3
   },
   "file_extension": ".py",
   "mimetype": "text/x-python",
   "name": "python",
   "nbconvert_exporter": "python",
   "pygments_lexer": "ipython3",
   "version": "3.10.4"
  }
 },
 "nbformat": 4,
 "nbformat_minor": 2
}
