{
 "cells": [
  {
   "cell_type": "code",
   "execution_count": null,
   "metadata": {},
   "outputs": [],
   "source": [
    "from modelzipper.tutils import *\n",
    "from pprint import pprint\n",
    "content = auto_read_data(\"/mnt/petrelfs/tangzecheng/local_data/processed_multi_hop/random_drop/inference_drop_1.pkl\")\n",
    "len(content)"
   ]
  },
  {
   "cell_type": "code",
   "execution_count": null,
   "metadata": {},
   "outputs": [],
   "source": [
    "content[2]"
   ]
  },
  {
   "cell_type": "code",
   "execution_count": null,
   "metadata": {},
   "outputs": [],
   "source": [
    "pprint(content[2]['answer'])\n",
    "\n",
    "print(\"=\"*50)\n",
    "\n",
    "pprint(content[2]['pred'][0])\n"
   ]
  },
  {
   "cell_type": "code",
   "execution_count": null,
   "metadata": {},
   "outputs": [],
   "source": [
    "class benchmark_data:\n",
    "\n",
    "    def __init__(self, data_name, prediction_res):\n",
    "        self.data_name = data_name\n",
    "        self.content = self.init_data(data_name)\n",
    "\n",
    "    \n",
    "    def post_process(self):\n",
    "        raise NotImplementedError\n",
    "\n",
    "\n",
    "    def init_data(self, data_name):\n",
    "        raise NotImplementedError\n",
    "    \n",
    "\n",
    "    def get_item(self):\n",
    "        raise NotImplementedError\n",
    "    \n",
    "    def eval(self):\n",
    "        \n",
    "\n",
    "\n",
    "\n"
   ]
  }
 ],
 "metadata": {
  "kernelspec": {
   "display_name": "zecheng",
   "language": "python",
   "name": "python3"
  },
  "language_info": {
   "codemirror_mode": {
    "name": "ipython",
    "version": 3
   },
   "file_extension": ".py",
   "mimetype": "text/x-python",
   "name": "python",
   "nbconvert_exporter": "python",
   "pygments_lexer": "ipython3",
   "version": "3.10.4"
  }
 },
 "nbformat": 4,
 "nbformat_minor": 2
}
