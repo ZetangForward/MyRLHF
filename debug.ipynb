{
 "cells": [
  {
   "cell_type": "code",
   "execution_count": 1,
   "metadata": {},
   "outputs": [
    {
     "name": "stderr",
     "output_type": "stream",
     "text": [
      "/mnt/petrelfs/tangzecheng/anaconda3/envs/zecheng_new/lib/python3.10/site-packages/tqdm/auto.py:21: TqdmWarning: IProgress not found. Please update jupyter and ipywidgets. See https://ipywidgets.readthedocs.io/en/stable/user_install.html\n",
      "  from .autonotebook import tqdm as notebook_tqdm\n"
     ]
    },
    {
     "name": "stdout",
     "output_type": "stream",
     "text": [
      "\u001b[4m\u001b[36mModelZipper is ready for launch🚀 | Current Version🦄 >>> 0.2.7 <<< | AOE Time🕒 2024-12-22 04:16:22\u001b[0m\n",
      "\u001b[97mbegin to read data from /mnt/petrelfs/tangzecheng/local_data/processed_multi_hop/random_drop_1/infernet_res.pkl | file size: 1.25 MB | file type: pkl\u001b[0m\n"
     ]
    }
   ],
   "source": [
    "from modelzipper.tutils import *\n",
    "\n",
    "content = auto_read_data(\"/mnt/petrelfs/tangzecheng/local_data/processed_multi_hop/random_drop_1/infernet_res.pkl\")"
   ]
  },
  {
   "cell_type": "code",
   "execution_count": 2,
   "metadata": {},
   "outputs": [
    {
     "data": {
      "text/plain": [
       "{'answer': \"Poling Preceptory is categorized more specifically as it falls under the category of Monasteries in West Sussex. In contrast, while Exeter Grey Friary is mentioned, the document only refers to 'Exeter monastery' as a related site without providing a specific category or detailed information.\",\n",
       " 'meta_data': {'clue_pos': [66, 6, 34],\n",
       "  'clue_docs': [{'id': 'BkksMjDxK19J_FE_RukH',\n",
       "    'content': 'Poling Preceptory\\n\\nPoling Preceptory was a priory in West Sussex, England.  It is a .\\n\\nReferences\\n\\nCategory:Monasteries in West Sussex\\n'},\n",
       "   {'id': 'BkksMTrxK7kqVN18rwKK',\n",
       "    'content': 'Exeter Grey Friary\\n\\nExeter Grey Friary was a friary in Devon, England.\\n\\nSee also\\n Exeter monastery\\n\\nReferences\\n\\nCategory:Monasteries in Devon\\nCategory:Buildings and structures in Exeter\\nCategory:History of Exeter\\n'},\n",
       "   {'id': 'BkksME7xK4sOjYtF2YT-',\n",
       "    'content': \"Oliver D. Crisp\\n\\nOliver D. Crisp (born 1972) is a British theologian who currently works as Professor of Analytic Theology at the University of St. Andrews, and was formerly a professor of systematic theology at Fuller Theological Seminary in Pasadena, California.  Crisp was, until 2011, a reader in divinity at Bristol University in the United Kingdom. He specializes in analytic theology, philosophical theology, and historical theology. His historical work focuses on eighteenth- and nineteenth-century American Reformed theologians, including Jonathan Edwards and William Shedd. His constructive work has, to date, primarily been in the areas of Christology and hamartiology. Along with Michael Rea, Crisp has been involved in a rising trend among growing number of theologians known as analytic theology. As part of this ongoing initiative Crisp and Rea founded the Journal of Analytic Theology (JAT) in 2013.  Simultaneously, Crisp has worked with Fred Sanders to start the L.A. Theology Conference (LATC) in 2013. The conference is in its sixth year as of 2018. He also has an appointment as a professorial fellow at the Logos Centre for Analytic and Exegetical Theology at the University of St Andrews.\\n\\nOliver Crisp earned his Bachelor's degree and Masters of Theology from the University of Aberdeen. He received his Ph.D from the University of London in 2003.  His thesis focused on the philosophical theology of Jonathan Edwards, and was supervised by Paul Helm. In 2017, Crisp was awarded the DLitt degree from the University of Aberdeen.\\n\\nHe is the author or editor of seven books and has written numerous articles in theology.  The covers of Crisp's singly authored works often feature his own artwork. (See for example the cover of Deviant Calvinism) .\\n\\nCrisp is an Evangelical and Reformed Calvinist Christian and attends a Presbyterian Church (U.S.A.) church.\\n\\nWorks\\n\\nBooks\\nSaving Calvinism: Expanding the Reformed Tradition by Oliver D. Crips; Downers Grove, Ill: IVP Academic, 2016. \\nThe Word Enfleshed: Exploring the Person and Work of Christ by Oliver D. Crisp;  Grand Rapids: Baker Academic, 2016. \\nDeviant Calvinism: Broadening Reformed Theology by Oliver D. Crisp; Fortress Press, 1 September 2014 \\n Retrieving Doctrine: Essays in Reformed Theology by Oliver D. Crips; Downers Grove, Ill; IVP Academic, 2011. \\nRevisioning Christology: Theology in the Reformed Tradition by Oliver Crisp; Farnham: Ashgate, 2011. \\nRetrieving Doctrine: Essays in Reformed Theology by Oliver Crisp; Downers Grove, Ill: IVP Academic,  2010. \\nGod Incarnate: Explorations in Christology by Oliver Crisp; New York: T & T Clark, 2009. \\nA Reader in Contemporary Philosophical Theology edited by Oliver Crisp; New York: T & T Clark, 2009. \\nAnalytic Theology: New Essays in the Philosophy of Theology, edited by Oliver Crisp and Michael Rea; New York: Oxford University Press, 2009. \\nDivinity and Humanity: The Incarnation Reconsidered by Oliver Crisp. Cambridge: Cambridge University Press, 2007. \\nAn American Augustinian: Sin and Salvation in the Dogmatic Theology of William G. T. Shedd by Oliver Crisp;  Eugene, OR: Wipf & Stock, 2007. \\nJonathan Edwards and the Metaphysics of Sin by Oliver Crisp; Burlington, VT: Ashgate Pub, 2005.\\n\\nReferences\\n\\nExternal links\\nHiring Announcement at Fuller\\n\\nCategory:English Calvinist and Reformed theologians\\nCategory:English evangelicals\\nCategory:1972 births\\nCategory:Living people\\nCategory:Fuller Theological Seminary faculty\\nCategory:Alumni of the University of London\\nCategory:Academics of the University of Bristol\\nCategory:21st-century Calvinist and Reformed theologians\\nCategory:Alumni of the University of Aberdeen\\n\"}],\n",
       "  'question': 'Which religious site is categorized more specifically, Poling Preceptory or Exeter Grey Friary?',\n",
       "  'answer': \"Poling Preceptory is categorized more specifically as it falls under the category of Monasteries in West Sussex. In contrast, while Exeter Grey Friary is mentioned, the document only refers to 'Exeter monastery' as a related site without providing a specific category or detailed information.\",\n",
       "  'instruction_format': 'Answer the question based on the given passages.\\n\\nThe following are given passages.\\n{concat_content}\\n\\nAnswer the question based on the given passages and provide a complete reasoning process.\\nQuestion:{q}\\nAnswer:'},\n",
       " 'pred': [' actors to promote peace in Libya.\"\\nthe G7 agreed to \"strengthen the G7’s commitment to the environment, including the goal of achieving net-zero emissions in the G7 by 2050.\"\\n\\nAugust 25 \\n2019 Hong Kong anti-extradition bill protests: Hong Kong police fire tear gas at protesters in the city’s financial district, leading to widespread disruption to the MTR subway system, with thousands of passengers stuck in tunnels.\\nAugust 27 \\n2019 Hong Kong anti-extradition bill protests: Hong Kong’s MTR subway system suspended services in the city’s financial district, leading to widespread disruption to the city’s transportation system, with thousands of passengers stuck in tunnels.\\nAugust 31 \\n2019 Hong Kong anti-extradition bill protests: Hong Kong’s MTR subway system suspended services in the city’s financial district, leading to widespread disruption to the city’s transportation system, with thousands of passengers stuck in tunnels.\\n\\nSeptember\\nSeptember 1 \\n2019 Hong Kong anti-extradition bill protests: Hong Kong’s MTR subway system suspended services in the city’s financial district, leading to widespread disruption to the city’s transportation system, with thousands of passengers stuck in tunnels.\\nSeptember 2 \\n2019 Hong Kong anti-extradition bill protests: Hong Kong’s MTR subway system suspended services in the city’s financial district, leading to widespread disruption to the city’s transportation system, with thousands of passengers stuck in tunnels.\\nSeptember 4 \\n2019 Hong Kong anti-extradition bill protests: Hong Kong’s MTR subway system suspended services in the city’s financial district, leading to widespread disruption to the city’s transportation system, with thousands of passengers stuck in tunnels.\\nSeptember 7 \\n2019 Hong Kong anti-extradition bill protests: Hong Kong’s MTR subway system suspended services in the city’s financial district, leading to widespread disruption to the city’s transportation system, with thousands of passengers stuck in tunnels.\\nSeptember 10 \\n2019 Hong Kong anti-extradition bill protests: Hong Kong’s MTR subway system suspended services in the city’s financial district, leading to widespread disruption to the city’s transportation system, with thousands of passengers stuck in tunnels.\\nSeptember 11 \\n2019 Hong Kong anti-extradition bill protests: Hong Kong’s MTR subway system suspended services in the city’s financial district, leading to widespread disruption to the city’s transportation system, with thousands of passengers stuck in tunnels.\\nSeptember 14 \\n2019 Hong Kong anti-extradition bill protests: Hong Kong’s MTR']}"
      ]
     },
     "execution_count": 2,
     "metadata": {},
     "output_type": "execute_result"
    }
   ],
   "source": [
    "content[0]\n"
   ]
  },
  {
   "cell_type": "code",
   "execution_count": 8,
   "metadata": {},
   "outputs": [
    {
     "data": {
      "text/plain": [
       "{'question': 'The football is in the kitchen.',\n",
       " 'input': 'Mary journeyed to the bathroom. Sandra went to the garden. Daniel went back to the garden. Daniel went to the office. Sandra grabbed the milk there. Sandra put down the milk there. Daniel went to the hallway. Sandra got the milk there. Daniel went to the garden. Daniel journeyed to the kitchen. Daniel journeyed to the bedroom. Mary journeyed to the garden. Daniel took the football there. Mary moved to the office. Sandra travelled to the bedroom. Daniel dropped the football. Sandra left the milk there. Daniel grabbed the football there. Sandra grabbed the milk there. Daniel went to the kitchen.',\n",
       " 'golden': 'yes'}"
      ]
     },
     "execution_count": 8,
     "metadata": {},
     "output_type": "execute_result"
    }
   ],
   "source": [
    "content['qa2']['0k']['datas'][0]"
   ]
  }
 ],
 "metadata": {
  "kernelspec": {
   "display_name": "zecheng_new",
   "language": "python",
   "name": "python3"
  },
  "language_info": {
   "codemirror_mode": {
    "name": "ipython",
    "version": 3
   },
   "file_extension": ".py",
   "mimetype": "text/x-python",
   "name": "python",
   "nbconvert_exporter": "python",
   "pygments_lexer": "ipython3",
   "version": "3.10.4"
  }
 },
 "nbformat": 4,
 "nbformat_minor": 2
}
