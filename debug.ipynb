{
 "cells": [
  {
   "cell_type": "code",
   "execution_count": 1,
   "metadata": {},
   "outputs": [
    {
     "name": "stderr",
     "output_type": "stream",
     "text": [
      "/data/anaconda3/envs/zecheng/lib/python3.10/site-packages/tqdm/auto.py:21: TqdmWarning: IProgress not found. Please update jupyter and ipywidgets. See https://ipywidgets.readthedocs.io/en/stable/user_install.html\n",
      "  from .autonotebook import tqdm as notebook_tqdm\n"
     ]
    },
    {
     "name": "stdout",
     "output_type": "stream",
     "text": [
      "\u001b[4m\u001b[36mModelZipper is ready for launch🚀 | Current Version🦄 >>> 0.2.7 <<< | AOE Time🕒 2024-10-24 17:18:36\u001b[0m\n"
     ]
    },
    {
     "name": "stderr",
     "output_type": "stream",
     "text": [
      "/tmp/ipykernel_96778/3125810189.py:6: FutureWarning: You are using `torch.load` with `weights_only=False` (the current default value), which uses the default pickle module implicitly. It is possible to construct malicious pickle data which will execute arbitrary code during unpickling (See https://github.com/pytorch/pytorch/blob/main/SECURITY.md#untrusted-models for more details). In a future release, the default value for `weights_only` will be flipped to `True`. This limits the functions that could be executed during unpickling. Arbitrary objects will no longer be allowed to be loaded via this mode unless they are explicitly allowlisted by the user via `torch.serialization.add_safe_globals`. We recommend you start setting `weights_only=True` for any use case where you don't have full control of the loaded file. Please open an issue on GitHub for any issues related to this experimental feature.\n",
      "  inputs = torch.load(\"/data/zecheng/MyRLHF/debug_space/vanilla/inputs.pt\")\n",
      "/tmp/ipykernel_96778/3125810189.py:7: FutureWarning: You are using `torch.load` with `weights_only=False` (the current default value), which uses the default pickle module implicitly. It is possible to construct malicious pickle data which will execute arbitrary code during unpickling (See https://github.com/pytorch/pytorch/blob/main/SECURITY.md#untrusted-models for more details). In a future release, the default value for `weights_only` will be flipped to `True`. This limits the functions that could be executed during unpickling. Arbitrary objects will no longer be allowed to be loaded via this mode unless they are explicitly allowlisted by the user via `torch.serialization.add_safe_globals`. We recommend you start setting `weights_only=True` for any use case where you don't have full control of the loaded file. Please open an issue on GitHub for any issues related to this experimental feature.\n",
      "  labels = torch.load(\"/data/zecheng/MyRLHF/debug_space/vanilla/labels.pt\")\n",
      "/tmp/ipykernel_96778/3125810189.py:8: FutureWarning: You are using `torch.load` with `weights_only=False` (the current default value), which uses the default pickle module implicitly. It is possible to construct malicious pickle data which will execute arbitrary code during unpickling (See https://github.com/pytorch/pytorch/blob/main/SECURITY.md#untrusted-models for more details). In a future release, the default value for `weights_only` will be flipped to `True`. This limits the functions that could be executed during unpickling. Arbitrary objects will no longer be allowed to be loaded via this mode unless they are explicitly allowlisted by the user via `torch.serialization.add_safe_globals`. We recommend you start setting `weights_only=True` for any use case where you don't have full control of the loaded file. Please open an issue on GitHub for any issues related to this experimental feature.\n",
      "  attention_mask = torch.load(\"/data/zecheng/MyRLHF/debug_space/vanilla/attention_mask.pt\")\n",
      "/tmp/ipykernel_96778/3125810189.py:12: FutureWarning: You are using `torch.load` with `weights_only=False` (the current default value), which uses the default pickle module implicitly. It is possible to construct malicious pickle data which will execute arbitrary code during unpickling (See https://github.com/pytorch/pytorch/blob/main/SECURITY.md#untrusted-models for more details). In a future release, the default value for `weights_only` will be flipped to `True`. This limits the functions that could be executed during unpickling. Arbitrary objects will no longer be allowed to be loaded via this mode unless they are explicitly allowlisted by the user via `torch.serialization.add_safe_globals`. We recommend you start setting `weights_only=True` for any use case where you don't have full control of the loaded file. Please open an issue on GitHub for any issues related to this experimental feature.\n",
      "  vanilla_logits = torch.load(\"/data/zecheng/MyRLHF/debug_space/vanilla/logits.pt\")\n",
      "/tmp/ipykernel_96778/3125810189.py:14: FutureWarning: You are using `torch.load` with `weights_only=False` (the current default value), which uses the default pickle module implicitly. It is possible to construct malicious pickle data which will execute arbitrary code during unpickling (See https://github.com/pytorch/pytorch/blob/main/SECURITY.md#untrusted-models for more details). In a future release, the default value for `weights_only` will be flipped to `True`. This limits the functions that could be executed during unpickling. Arbitrary objects will no longer be allowed to be loaded via this mode unless they are explicitly allowlisted by the user via `torch.serialization.add_safe_globals`. We recommend you start setting `weights_only=True` for any use case where you don't have full control of the loaded file. Please open an issue on GitHub for any issues related to this experimental feature.\n",
      "  gathered_logits = torch.load(\"/data/zecheng/MyRLHF/debug_space/ring_attention/gathered_logits.pt\")\n",
      "/tmp/ipykernel_96778/3125810189.py:15: FutureWarning: You are using `torch.load` with `weights_only=False` (the current default value), which uses the default pickle module implicitly. It is possible to construct malicious pickle data which will execute arbitrary code during unpickling (See https://github.com/pytorch/pytorch/blob/main/SECURITY.md#untrusted-models for more details). In a future release, the default value for `weights_only` will be flipped to `True`. This limits the functions that could be executed during unpickling. Arbitrary objects will no longer be allowed to be loaded via this mode unless they are explicitly allowlisted by the user via `torch.serialization.add_safe_globals`. We recommend you start setting `weights_only=True` for any use case where you don't have full control of the loaded file. Please open an issue on GitHub for any issues related to this experimental feature.\n",
      "  ring_attn_inputs = torch.load(\"/data/zecheng/MyRLHF/debug_space/ring_attention/inputs.pt\")\n",
      "/tmp/ipykernel_96778/3125810189.py:16: FutureWarning: You are using `torch.load` with `weights_only=False` (the current default value), which uses the default pickle module implicitly. It is possible to construct malicious pickle data which will execute arbitrary code during unpickling (See https://github.com/pytorch/pytorch/blob/main/SECURITY.md#untrusted-models for more details). In a future release, the default value for `weights_only` will be flipped to `True`. This limits the functions that could be executed during unpickling. Arbitrary objects will no longer be allowed to be loaded via this mode unless they are explicitly allowlisted by the user via `torch.serialization.add_safe_globals`. We recommend you start setting `weights_only=True` for any use case where you don't have full control of the loaded file. Please open an issue on GitHub for any issues related to this experimental feature.\n",
      "  ring_attn_mask = torch.load(\"/data/zecheng/MyRLHF/debug_space/ring_attention/attention_mask.pt\")\n"
     ]
    }
   ],
   "source": [
    "from modelzipper.tutils import *\n",
    "import torch\n",
    "import torch.nn.functional as F\n",
    "\n",
    "\n",
    "inputs = torch.load(\"/data/zecheng/MyRLHF/debug_space/vanilla/inputs.pt\")\n",
    "labels = torch.load(\"/data/zecheng/MyRLHF/debug_space/vanilla/labels.pt\")\n",
    "attention_mask = torch.load(\"/data/zecheng/MyRLHF/debug_space/vanilla/attention_mask.pt\")\n",
    "vanilla_inputs = F.pad(inputs, (0,1), value=0)\n",
    "vanilla_labels = F.pad(labels, (0,1), value=0)\n",
    "vanilla_attn_mask = F.pad(attention_mask, (0,1), value=0)\n",
    "vanilla_logits = torch.load(\"/data/zecheng/MyRLHF/debug_space/vanilla/logits.pt\")\n",
    "\n",
    "gathered_logits = torch.load(\"/data/zecheng/MyRLHF/debug_space/ring_attention/gathered_logits.pt\")\n",
    "ring_attn_inputs = torch.load(\"/data/zecheng/MyRLHF/debug_space/ring_attention/inputs.pt\")\n",
    "ring_attn_mask = torch.load(\"/data/zecheng/MyRLHF/debug_space/ring_attention/attention_mask.pt\")"
   ]
  },
  {
   "cell_type": "code",
   "execution_count": 3,
   "metadata": {},
   "outputs": [],
   "source": [
    "vanilla_logits.shape\n",
    "zeros = torch.zeros(1, 1, 128256)\n",
    "padded_vanilla_logits = torch.cat((vanilla_logits, zeros), dim=1)\n",
    "\n",
    "# 计算每段的大小\n",
    "segment_size = 6282\n",
    "segments = [segment_size] * 4  # 前面三段都是 6282\n",
    "\n",
    "split_logits = torch.split(padded_vanilla_logits, segments, dim=1)\n",
    "split_inputs = torch.split(vanilla_inputs, segments, dim=1)\n",
    "split_labels = torch.split(vanilla_labels, segments, dim=1)\n",
    "split_attn_mask = torch.split(vanilla_attn_mask, segments, dim=1)\n",
    "\n",
    "first_chunk = gathered_logits[0]\n",
    "sec_chunk = gathered_logits[1]\n",
    "third_chunk = gathered_logits[2]\n",
    "forch_chunk = gathered_logits[3]"
   ]
  },
  {
   "cell_type": "code",
   "execution_count": 7,
   "metadata": {},
   "outputs": [
    {
     "data": {
      "text/plain": [
       "tensor(0)"
      ]
     },
     "execution_count": 7,
     "metadata": {},
     "output_type": "execute_result"
    }
   ],
   "source": [
    "(vanilla_attn_mask == ring_attn_mask).ne(1).sum()"
   ]
  },
  {
   "cell_type": "code",
   "execution_count": 35,
   "metadata": {},
   "outputs": [
    {
     "data": {
      "text/plain": [
       "tensor([[[True, True, True,  ..., True, True, True],\n",
       "         [True, True, True,  ..., True, True, True],\n",
       "         [True, True, True,  ..., True, True, True],\n",
       "         ...,\n",
       "         [True, True, True,  ..., True, True, True],\n",
       "         [True, True, True,  ..., True, True, True],\n",
       "         [True, True, True,  ..., True, True, True]]])"
      ]
     },
     "execution_count": 35,
     "metadata": {},
     "output_type": "execute_result"
    }
   ],
   "source": [
    "third_chunk == split_logits[2]"
   ]
  },
  {
   "cell_type": "code",
   "execution_count": 21,
   "metadata": {},
   "outputs": [],
   "source": [
    "# 找到不同的位置\n",
    "diff_mask = forch_chunk.squeeze(0) != split_logits[-1].squeeze(0)\n",
    "\n",
    "# 获取不同位置的索引\n",
    "diff_indices = diff_mask.nonzero(as_tuple=True)[0]  # 只取第一维的索引"
   ]
  },
  {
   "cell_type": "code",
   "execution_count": 33,
   "metadata": {},
   "outputs": [],
   "source": [
    "diff_indices = torch.Tensor(sorted(list(set(diff_indices.tolist())))).long()"
   ]
  },
  {
   "cell_type": "code",
   "execution_count": 34,
   "metadata": {},
   "outputs": [
    {
     "data": {
      "text/plain": [
       "tensor([  955,    25, 37936,   765,  1670,  3220,    25,  2290,   198,  3784,\n",
       "         1292,    25,  1060,   765,  4096,    25,   578,  1060,   369,   902,\n",
       "          499,  1390,   311, 17622,   279, 37869,   765,   955,    25, 37936,\n",
       "          765,  1670,  3220,    25,  2290,   198,  3784,  1292,    25,  1938,\n",
       "          765,  4096,    25,   578,  1938,   369,   902,   499,  1390,   311,\n",
       "        17622,   279, 37869,   765,   955,    25, 37936,   765,  1670,  3220,\n",
       "           25,  2290,   198, 20761,  2631, 26216,    25,   887,    11,  2305,\n",
       "           11,  1060,    11,  1938,   198,   524,  7227,    62,  3971,   397,\n",
       "           27,  7227,    62,  4103,   397, 20761,  6464,  1292,    25,  9899,\n",
       "          198, 20761,  6464, 11703,    25, 52215,  9899,   315,   279,  2046,\n",
       "          477,  5300,  1938,   198, 20761,  1719, 26216,   512,  3784,  1292,\n",
       "           25,  1938,   765,  4096,    25, 94299,   259,  7192, 11077,  7465,\n",
       "          270,  7329, 80413,   274,  7115, 93463,    11,  1023,   320,    85,\n",
       "           18,   705,  9987,   320,    85,    18,     8,   765,   955,    25,\n",
       "        36355,   765,  1670,  3220,    25,  2290,   198, 20761,  2631, 26216,\n",
       "           25,  1938,   198,   524,  7227,    62,  4103,   397,    27,  7227,\n",
       "           62,  4331,   397, 20761,  6464,  1292,    25, 23655,   198, 20761,\n",
       "         6464, 11703,    25, 12027,  1665,   449,   682,   433,   596,  3649,\n",
       "          198, 20761,  1719, 26216,   512,  3784,  1292,    25,  1715,   765,\n",
       "         4096,    25, 22991,  1990,    25,  5885, 48160,    11, 18243,    11,\n",
       "         3754,    11,  9364,    11,  6946,    11, 10691,    11, 12111,    11,\n",
       "          810,  2801,    11,  8544,    11, 19075,    11,  1217, 50761,   765,\n",
       "          955,    25, 36355,   765,  1670,  3220,    25,  2290,   198,  3784,\n",
       "         1292,    25,   887,   765,  4096,    25,  3110,   315, 52215,   389,\n",
       "         3092, 90693,   861,  5181,   765,   955,    25, 36355,   765,  1670,\n",
       "         3220,    25,  2290,   198, 20761,  2631, 26216,    25,  1715,    11,\n",
       "          887,   198,   524,  7227,    62,  4331,   397,    27,  7227,    62,\n",
       "         4370,   397, 20761,  6464,  1292,    25,   636, 49662,  5676,  2801,\n",
       "         1527, 27500,  2617,   198, 20761,  6464, 11703,    25,  3277, 16661,\n",
       "          279, 16580,   320, 24649,   612, 21155,     8,   369,  3738,   198,\n",
       "         2588,    11,   420,  1749, 71743,   690,   471,  4857,  3649,   320,\n",
       "          258,  1162,   198,   576,  3813, 17503,  4871,   264,  4857,   705,\n",
       "        40424,  5676,  3649,   369,   279,  4857,   198,   438, 21518,   612,\n",
       "        21155,   369,  1855, 40424,  5676,  5742,    13, 40424,  5676,   198,\n",
       "        24677,   685,  1161,     8,   369,   279,  4857,   649,   387, 68683,\n",
       "          611, 48809,   389,   459,   198, 19493,  8535,  2472,   555,  1701,\n",
       "          279, 21518,   612, 21155,   369,  1855, 40424,  5676,   198,  2903,\n",
       "          627, 20761,  1719, 26216,   512,  3784,  1292,    25, 21518,   765,\n",
       "         4096,    25,  2290,   765,   955,    25, 37936,   765,  1670,  3220,\n",
       "           25,  2290,   198])"
      ]
     },
     "execution_count": 34,
     "metadata": {},
     "output_type": "execute_result"
    }
   ],
   "source": [
    "inputs[0][diff_indices]"
   ]
  }
 ],
 "metadata": {
  "language_info": {
   "name": "python"
  }
 },
 "nbformat": 4,
 "nbformat_minor": 2
}
