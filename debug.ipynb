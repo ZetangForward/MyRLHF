{
 "cells": [
  {
   "cell_type": "code",
   "execution_count": 1,
   "metadata": {},
   "outputs": [
    {
     "name": "stderr",
     "output_type": "stream",
     "text": [
      "/mnt/petrelfs/tangzecheng/anaconda3/envs/zecheng_new/lib/python3.10/site-packages/tqdm/auto.py:21: TqdmWarning: IProgress not found. Please update jupyter and ipywidgets. See https://ipywidgets.readthedocs.io/en/stable/user_install.html\n",
      "  from .autonotebook import tqdm as notebook_tqdm\n"
     ]
    },
    {
     "name": "stdout",
     "output_type": "stream",
     "text": [
      "\u001b[4m\u001b[36mModelZipper is ready for launch🚀 | Current Version🦄 >>> 0.2.7 <<< | AOE Time🕒 2024-12-22 14:17:32\u001b[0m\n",
      "\u001b[31mbegin to read data from /mnt/petrelfs/tangzecheng/local_data/processed_multi_hop/random_drop_1/infernet_res.pkl | file size: 108.11 MB | file type: pkl\u001b[0m\n"
     ]
    }
   ],
   "source": [
    "from modelzipper.tutils import *\n",
    "\n",
    "content = auto_read_data(\"/mnt/petrelfs/tangzecheng/local_data/processed_multi_hop/random_drop_1/infernet_res.pkl\")"
   ]
  },
  {
   "cell_type": "code",
   "execution_count": 2,
   "metadata": {},
   "outputs": [
    {
     "data": {
      "text/plain": [
       "6000"
      ]
     },
     "execution_count": 2,
     "metadata": {},
     "output_type": "execute_result"
    }
   ],
   "source": [
    "len(content)"
   ]
  },
  {
   "cell_type": "code",
   "execution_count": 5,
   "metadata": {},
   "outputs": [
    {
     "data": {
      "text/plain": [
       "{'answer': \"The purpose of the shared dev server, known as 'dev', is to operate on AWS servers, testing production-like setups against a dev API with limited test data, distinct from Ember's local development environment. It auto-deploys after each successful CI build. The setup involves configuring different Cloudfront and S3 settings for dev and stage environments in `config/environment.js`, and the deployment process varies between production, dev, and stage environments. In contrast, developers face the challenge of documentation when creating a shared component library in Ember. Existing documentation tools for JavaScript like YUIDoc, JSDoc, ESDoc, and Documentation.js have limitations for Ember developers, including lack of support for modern JavaScript features, no tailored support for Ember-specific concepts, and absence of live examples and demos. This has led to a gap in fully documented addons with good examples and well-described APIs. The development of ember-cli-addon-docs aims to address these limitations by providing a simple and unified way to document all Ember addons. It supports Markdown-based templates, snippets, live demos, unified styles and components, versioned documentation, automated deployments, full text search, and generated API docs with a plugin system for multiple backing generators. Additionally, it includes API docs for Ember concepts like components and wraps everything up in your dummy application with minimal setup, allowing for customization of look and feel and functionality.\",\n",
       " 'meta_data': {'clue_pos': [37, 22, 71],\n",
       "  'clue_docs': [{'id': 'BkksLvXxK4tB0XCNgUy2',\n",
       "    'content': 'In a previous blog article, I described how we deploy Ember apps to S3 buckets, and promised a follow up article about how we use a staging bucket to preview changes before pushing to production. In this article, I’ll describe how we added shared development and staging buckets to our Ember deployment setup.\\n\\nOur Ember app content lives in S3 buckets. We use nginx to proxy requests for index.html to the bucket, and /api/* requests to the backend API service. Our production environment looks like this:\\n\\nOut of the box, Ember comes with three environments:\\n\\ndevelopment: with source maps; not minified\\n\\ntest: with Testem config; not minified\\n\\nproduction: minified, with fingerprinting\\n\\nThose are all useful, but I want more:\\n\\nA shared dev server. We call this dev, and it runs on servers in our AWS account. This is distinct from Ember’s development environment, which we run on our laptops when developing. The dev server runs against a dev API, with a limited set of test data. It gets deployed automatically after every successful build from our CI system. This is where we do the first test of production-like config. We run manual UI tests on this instance, since it’s easy to drop and re-create test data. But how do we set this up? If we build and deploy to our dev servers with --environment=production , the production fingerprint configuration will serve assets from our production Cloudfront distribution. If we build and deploy with --environment=development , we won’t be able to test production-like configuration, such as whether the Content Security Policy works for serving fonts via Cloudfront.\\n\\nA stage server. This runs against the production API. It lets us preview new UI changes with production data. For example, does this UI approach scale to a list of 1,000 requests? It’s also useful for isolating and verifying tricky-to-reproduce, data-dependent bugs. Our production environment already knows how to direct index.html to the production S3 bucket and /api requests to our backend API service. All we need to do to add another content source is add a new server section to the nginx configuration. As in dev, we need a way to create a build that points to a different Cloudfront distribution and S3 bucket.\\n\\nThere’s some discussion about how create a stage environment on Ember CLI issue #3176, but no real resolution. Stefan Penner suggests “shim your staging and stuff into what ember cli perceives as production.” Here’s how I did that.\\n\\nFirst, in config/environment.js , add subsets to the production environment, selected by environment variables:\\n\\nif (environment === \\'production\\') { if (process.env[\\'BUILD\\'] === \\'dev\\') { // dev content bucket, dev Cloudfront, and dev API ENV.S3_BUCKET_NAME = \\'user_content_dev\\'; ENV.GOOGLE_ANALYTICS_ENABLED = false; ENV.CLOUDFRONT_PREFIX = \\'//dev_cloudfront.cloudfront.net/\\'; } else if (process.env[\\'BUILD\\'] === \\'stage\\') { // production content bucket, staging Cloudfront, and production API ENV.S3_BUCKET_NAME = \\'user_content_production\\'; ENV.GOOGLE_ANALYTICS_ENABLED = false; ENV.CLOUDFRONT_PREFIX = \\'//stage_cloudfront.cloudfront.net/\\'; } else { // production bucket, production Cloudfront, and production API ENV.S3_BUCKET_NAME = \\'user_content_production\\'; ENV.GOOGLE_ANALYTICS_ENABLED = true; ENV.CLOUDFRONT_PREFIX = \\'//production_cloudfront.cloudfront.net/\\'; } }\\n\\nThen, in ember-cli-build.js , get the settings from config/environment.js and use them to set the fingerprint prefix to the correct Cloudfront distribution:\\n\\nvar EmberAppConfig = require(\\'./config/environment.js\\'); // get Cloudfront prefix from build environment var CLOUDFRONT_PREFIX = EmberAppConfig(EmberApp.env()).CLOUDFRONT_PREFIX; module.exports = function(defaults) { var app = new EmberApp(defaults, { fingerprint: { prepend: CLOUDFRONT_PREFIX }, });\\n\\nWe use nginx to proxy requests for index.html to an S3 bucket, and /api/* requests to the backend API service. I added a server section that checks the request URL and serves content from the right S3 bucket:\\n\\nserver { listen 80; server_name *.gridium-stage.com; # /api to api container location /api { proxy_pass http://api; proxy_http_version 1.1; proxy_set_header Upgrade $http_upgrade; proxy_set_header Connection \\'upgrade\\'; proxy_set_header Host $host; proxy_cache_bypass $http_upgrade; } # everything else to index.html in s3 bucket location /index.html { proxy_ignore_headers set-cookie; proxy_hide_header set-cookie; proxy_set_header cookie \"\"; proxy_pass http://s3-us-west-1.amazonaws.com/staging-bucket/index.html; } location / { rewrite ^ /index.html; } }\\n\\nThose are all of the required configuration changes. How we deploy varies based on the destination environment:\\n\\nFor production, we use a Slack Hubot integration that talks to an internal ops API. The ops API gets the saved build artifact from our CI system, and syncs it to the production S3 bucket.\\n\\nFor dev and stage, I wrote a simple script that exports the BUILD environment variable to dev or stage from the command-line arguments, builds with --environment=production , and runs aws s3 sync to push the build to the appropriate S3 bucket.\\n\\nAs part of our CI build, we deploy every passing build to the shared dev bucket. Developers can deploy to stage direct from their laptops to stage as needed by running ./deploy.sh stage from the Ember app directory.\\n\\nWhile this is fast and convenient for pre-release demos, we don’t do this for dev or production for a couple of reasons. First, these builds should be reproducible. Deploying from a laptop allows any code to be deployed, even if it’s not checked in. If there’s a problem, it might be impossible for another developer to reproduce or debug. We also want to make sure we always run the tests, and that all of the tests pass before deploying to production. Finally, deploying via Slack lets the whole team know that production code has changed.\\n\\nEventually, Ember CLI will likely support more build environments. Until it does, it’s pretty simple to add subsets to the production environment and create builds that are production-like but can run in other environments.\\n'},\n",
       "   {'id': 'BkksLrDxK0yhV0lHSevq',\n",
       "    'content': 'On our road to modern Ember here at Addepar, we’ve been hard at work developing a new component library to replace a lot of our older components, such as the now deprecated Ember Widgets library. As anyone who has built a shared toolset of components will know, one of the more tedious tasks faced by a library developer is documentation — users of the new components need to be able to reference the APIs to know how to use them, and having a single source of truth for your docs is invaluable to developer productivity, but setting up docs in the first place is a lot of hard work!\\n\\nFor Ember, part of the problem is that there is no standard documentation solution as of yet. The core Ember and Ember-CLI API docs use YUIDoc to generate docs automatically, but it is an aging library which doesn’t have much support for modern javascript features. JSDoc is also falling behind the times lately, and newer doc tools like ESDoc and Documentation.js are still too experimental for widespread use. Moreover, none of these tools targets Ember — they are meant for generic Javascript usage and don’t highlight things that Ember devs need to know, like what arguments a component receives, what actions it sends, or what values it yields.\\n\\nWorse yet, none of these tools has support for live examples and demos. To get those, most addon authors resort to building an Ember app, usually using the test application (or Dummy app) included with the addon. Building an app takes time and effort, and in the end this means that very few addons in the ecosystem are fully documented with good examples and well described APIs.\\n\\nWhen we started to set up our documentation we ran into all of these issues, and we began wondering where the shared solution was for Ember documentation. As often happens in the Ember community, it turned out others had been wondering this as well! We joined forces with Sam Selikoff, Dan Freeman, and the Ember Learning team to work on ember-cli-addon-docs, a project whose goal is to provide a simple and unified way to document all Ember addons. The results have been amazing so far, and with v1.0.0 approaching quickly it supports:\\n\\nMarkdown-based templates\\n\\nSnippets and live demos\\n\\nUnified styles and components\\n\\nVersioned documentation\\n\\nAutomated deployments\\n\\nFull text search of the guides and the API docs\\n\\nGenerated API docs with a plugin system for multiple backing generators (Currently supports YUIDoc and ESDoc)\\n\\nAPI docs for Ember concepts, like components\\n\\nAll of this gets wrapped up in your dummy application with minimal setup, so in the end, it’s still Just an Ember App — you can customize the look and feel and functionality however you choose!\\n'},\n",
       "   {'id': 'BkksLrDxK0yhV0lHSevq',\n",
       "    'content': 'On our road to modern Ember here at Addepar, we’ve been hard at work developing a new component library to replace a lot of our older components, such as the now deprecated Ember Widgets library. As anyone who has built a shared toolset of components will know, one of the more tedious tasks faced by a library developer is documentation — users of the new components need to be able to reference the APIs to know how to use them, and having a single source of truth for your docs is invaluable to developer productivity, but setting up docs in the first place is a lot of hard work!\\n\\nFor Ember, part of the problem is that there is no standard documentation solution as of yet. The core Ember and Ember-CLI API docs use YUIDoc to generate docs automatically, but it is an aging library which doesn’t have much support for modern javascript features. JSDoc is also falling behind the times lately, and newer doc tools like ESDoc and Documentation.js are still too experimental for widespread use. Moreover, none of these tools targets Ember — they are meant for generic Javascript usage and don’t highlight things that Ember devs need to know, like what arguments a component receives, what actions it sends, or what values it yields.\\n\\nWorse yet, none of these tools has support for live examples and demos. To get those, most addon authors resort to building an Ember app, usually using the test application (or Dummy app) included with the addon. Building an app takes time and effort, and in the end this means that very few addons in the ecosystem are fully documented with good examples and well described APIs.\\n\\nWhen we started to set up our documentation we ran into all of these issues, and we began wondering where the shared solution was for Ember documentation. As often happens in the Ember community, it turned out others had been wondering this as well! We joined forces with Sam Selikoff, Dan Freeman, and the Ember Learning team to work on ember-cli-addon-docs, a project whose goal is to provide a simple and unified way to document all Ember addons. The results have been amazing so far, and with v1.0.0 approaching quickly it supports:\\n\\nMarkdown-based templates\\n\\nSnippets and live demos\\n\\nUnified styles and components\\n\\nVersioned documentation\\n\\nAutomated deployments\\n\\nFull text search of the guides and the API docs\\n\\nGenerated API docs with a plugin system for multiple backing generators (Currently supports YUIDoc and ESDoc)\\n\\nAPI docs for Ember concepts, like components\\n\\nAll of this gets wrapped up in your dummy application with minimal setup, so in the end, it’s still Just an Ember App — you can customize the look and feel and functionality however you choose!\\n'}],\n",
       "  'question': 'How does the purpose and setup of the shared dev server in Ember development compare to the challenges and limitations faced by developers when using existing documentation tools like YUIDoc, JSDoc, ESDoc, and Documentation.js?',\n",
       "  'answer': \"The purpose of the shared dev server, known as 'dev', is to operate on AWS servers, testing production-like setups against a dev API with limited test data, distinct from Ember's local development environment. It auto-deploys after each successful CI build. The setup involves configuring different Cloudfront and S3 settings for dev and stage environments in `config/environment.js`, and the deployment process varies between production, dev, and stage environments. In contrast, developers face the challenge of documentation when creating a shared component library in Ember. Existing documentation tools for JavaScript like YUIDoc, JSDoc, ESDoc, and Documentation.js have limitations for Ember developers, including lack of support for modern JavaScript features, no tailored support for Ember-specific concepts, and absence of live examples and demos. This has led to a gap in fully documented addons with good examples and well-described APIs. The development of ember-cli-addon-docs aims to address these limitations by providing a simple and unified way to document all Ember addons. It supports Markdown-based templates, snippets, live demos, unified styles and components, versioned documentation, automated deployments, full text search, and generated API docs with a plugin system for multiple backing generators. Additionally, it includes API docs for Ember concepts like components and wraps everything up in your dummy application with minimal setup, allowing for customization of look and feel and functionality.\"},\n",
       " 'pred': [', like what arguments a component receives, what actions it sends, or what values it yields.\\n\\nWorse yet, none of these tools has support for live examples and demos. To get those, most addon authors resort to building an Ember app, usually using the test application (or Dummy app) included with the addon. Building an app takes time and effort, and in the end this means that very few addons in the ecosystem are fully documented with good examples and well described APIs.\\n\\nWhen we started to set up our documentation we ran into all of these issues, and we began wondering where the shared solution was for Ember documentation. As often happens in the Ember community, it turned out others had been wondering this as well! We joined forces with Sam Selikoff, Dan Freeman, and the Ember Learning team to work on ember-cli-addon-docs, a project whose goal is to provide a simple and unified way to document all Ember addons. The results have been amazing so far, and with v1.0.0 approaching quickly it supports:\\n\\nMarkdown-based templates\\n\\nSnippets and live demos\\n\\nUnified styles and components\\n\\nVersioned documentation\\n\\nAutomated deployments\\n\\nFull text search of the guides and the API docs\\n\\nGenerated API docs with a plugin system for multiple backing generators (Currently']}"
      ]
     },
     "execution_count": 5,
     "metadata": {},
     "output_type": "execute_result"
    }
   ],
   "source": [
    "content[2]\n"
   ]
  },
  {
   "cell_type": "code",
   "execution_count": 8,
   "metadata": {},
   "outputs": [
    {
     "data": {
      "text/plain": [
       "{'question': 'The football is in the kitchen.',\n",
       " 'input': 'Mary journeyed to the bathroom. Sandra went to the garden. Daniel went back to the garden. Daniel went to the office. Sandra grabbed the milk there. Sandra put down the milk there. Daniel went to the hallway. Sandra got the milk there. Daniel went to the garden. Daniel journeyed to the kitchen. Daniel journeyed to the bedroom. Mary journeyed to the garden. Daniel took the football there. Mary moved to the office. Sandra travelled to the bedroom. Daniel dropped the football. Sandra left the milk there. Daniel grabbed the football there. Sandra grabbed the milk there. Daniel went to the kitchen.',\n",
       " 'golden': 'yes'}"
      ]
     },
     "execution_count": 8,
     "metadata": {},
     "output_type": "execute_result"
    }
   ],
   "source": [
    "content['qa2']['0k']['datas'][0]"
   ]
  }
 ],
 "metadata": {
  "kernelspec": {
   "display_name": "zecheng_new",
   "language": "python",
   "name": "python3"
  },
  "language_info": {
   "codemirror_mode": {
    "name": "ipython",
    "version": 3
   },
   "file_extension": ".py",
   "mimetype": "text/x-python",
   "name": "python",
   "nbconvert_exporter": "python",
   "pygments_lexer": "ipython3",
   "version": "3.10.4"
  }
 },
 "nbformat": 4,
 "nbformat_minor": 2
}
