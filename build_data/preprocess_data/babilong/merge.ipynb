{
 "cells": [
  {
   "cell_type": "code",
   "execution_count": 3,
   "metadata": {},
   "outputs": [
    {
     "name": "stdout",
     "output_type": "stream",
     "text": [
      "\u001b[34mbegin to read data from /mnt/petrelfs/tangzecheng/remote_bucket/zecheng/data/babilong/generated_tasks/qa2/16k.pkl | file size: 61.86 MB | file type: pkl\u001b[0m\n",
      "\u001b[31mbegin to read data from /mnt/petrelfs/tangzecheng/remote_bucket/zecheng/data/babilong/generated_tasks/qa2/32k.pkl | file size: 124.96 MB | file type: pkl\u001b[0m\n",
      "\u001b[33mbegin to read data from /mnt/petrelfs/tangzecheng/remote_bucket/zecheng/data/babilong/generated_tasks/qa2/4k.pkl | file size: 15.07 MB | file type: pkl\u001b[0m\n",
      "\u001b[34mbegin to read data from /mnt/petrelfs/tangzecheng/remote_bucket/zecheng/data/babilong/generated_tasks/qa2/64k.pkl | file size: 250.01 MB | file type: pkl\u001b[0m\n",
      "\u001b[36mbegin to read data from /mnt/petrelfs/tangzecheng/remote_bucket/zecheng/data/babilong/generated_tasks/qa2/8k.pkl | file size: 30.67 MB | file type: pkl\u001b[0m\n",
      "\u001b[33mbegin to read data from /mnt/petrelfs/tangzecheng/remote_bucket/zecheng/data/babilong/generated_tasks/qa3/16k.pkl | file size: 63.08 MB | file type: pkl\u001b[0m\n",
      "\u001b[36mbegin to read data from /mnt/petrelfs/tangzecheng/remote_bucket/zecheng/data/babilong/generated_tasks/qa3/32k.pkl | file size: 125.73 MB | file type: pkl\u001b[0m\n",
      "\u001b[31mbegin to read data from /mnt/petrelfs/tangzecheng/remote_bucket/zecheng/data/babilong/generated_tasks/qa3/4k.pkl | file size: 16.1 MB | file type: pkl\u001b[0m\n",
      "\u001b[35mbegin to read data from /mnt/petrelfs/tangzecheng/remote_bucket/zecheng/data/babilong/generated_tasks/qa3/64k.pkl | file size: 251.4 MB | file type: pkl\u001b[0m\n",
      "\u001b[31mbegin to read data from /mnt/petrelfs/tangzecheng/remote_bucket/zecheng/data/babilong/generated_tasks/qa3/8k.pkl | file size: 31.66 MB | file type: pkl\u001b[0m\n"
     ]
    }
   ],
   "source": [
    "from modelzipper.tutils import *\n",
    "from inference.utils.babilong.prompts import DEFAULT_PROMPTS, DEFAULT_TEMPLATE, get_formatted_input, LongMIT_DEFAULT_TEMPLATE\n",
    "from datasets import Dataset, DatasetDict\n",
    "\n",
    "data_dir = \"/mnt/petrelfs/tangzecheng/remote_bucket/zecheng/data/babilong/generated_tasks\"\n",
    "\n",
    "tasks = [\"qa2\", \"qa3\"]\n",
    "\n"
   ]
  },
  {
   "cell_type": "code",
   "execution_count": 24,
   "metadata": {},
   "outputs": [
    {
     "name": "stdout",
     "output_type": "stream",
     "text": [
      "\u001b[34mbegin to read data from /mnt/petrelfs/tangzecheng/remote_bucket/zecheng/data/babilong/generated_tasks/qa2/16k.pkl | file size: 61.86 MB | file type: pkl\u001b[0m\n",
      "\u001b[33mbegin to read data from /mnt/petrelfs/tangzecheng/remote_bucket/zecheng/data/babilong/generated_tasks/qa2/32k.pkl | file size: 124.96 MB | file type: pkl\u001b[0m\n",
      "\u001b[32mbegin to read data from /mnt/petrelfs/tangzecheng/remote_bucket/zecheng/data/babilong/generated_tasks/qa2/4k.pkl | file size: 15.07 MB | file type: pkl\u001b[0m\n",
      "\u001b[36mbegin to read data from /mnt/petrelfs/tangzecheng/remote_bucket/zecheng/data/babilong/generated_tasks/qa2/64k.pkl | file size: 250.01 MB | file type: pkl\u001b[0m\n",
      "\u001b[32mbegin to read data from /mnt/petrelfs/tangzecheng/remote_bucket/zecheng/data/babilong/generated_tasks/qa2/8k.pkl | file size: 30.67 MB | file type: pkl\u001b[0m\n"
     ]
    },
    {
     "name": "stderr",
     "output_type": "stream",
     "text": [
      "Saving the dataset (3/3 shards): 100%|██████████| 5000/5000 [00:02<00:00, 1913.51 examples/s]\n"
     ]
    },
    {
     "name": "stdout",
     "output_type": "stream",
     "text": [
      "\u001b[33mbegin to read data from /mnt/petrelfs/tangzecheng/remote_bucket/zecheng/data/babilong/generated_tasks/qa3/16k.pkl | file size: 63.08 MB | file type: pkl\u001b[0m\n",
      "\u001b[33mbegin to read data from /mnt/petrelfs/tangzecheng/remote_bucket/zecheng/data/babilong/generated_tasks/qa3/32k.pkl | file size: 125.73 MB | file type: pkl\u001b[0m\n",
      "\u001b[31mbegin to read data from /mnt/petrelfs/tangzecheng/remote_bucket/zecheng/data/babilong/generated_tasks/qa3/4k.pkl | file size: 16.1 MB | file type: pkl\u001b[0m\n",
      "\u001b[36mbegin to read data from /mnt/petrelfs/tangzecheng/remote_bucket/zecheng/data/babilong/generated_tasks/qa3/64k.pkl | file size: 251.4 MB | file type: pkl\u001b[0m\n",
      "\u001b[31mbegin to read data from /mnt/petrelfs/tangzecheng/remote_bucket/zecheng/data/babilong/generated_tasks/qa3/8k.pkl | file size: 31.66 MB | file type: pkl\u001b[0m\n"
     ]
    },
    {
     "name": "stderr",
     "output_type": "stream",
     "text": [
      "Saving the dataset (3/3 shards): 100%|██████████| 5000/5000 [00:02<00:00, 1870.73 examples/s]\n"
     ]
    }
   ],
   "source": [
    "\n",
    "for task in tasks:\n",
    "    all_content = []\n",
    "    task_dir = os.path.join(data_dir, task)\n",
    "    all_files = os.listdir(task_dir)\n",
    "    for f in all_files:\n",
    "        content = auto_read_data(os.path.join(task_dir, f))\n",
    "        for item in content:\n",
    "            item['task'] = task\n",
    "            item['f'] = f.split('.')[0]\n",
    "        all_content.extend(content)\n",
    "\n",
    "    anlysis_data = []\n",
    "\n",
    "    for sample in all_content:\n",
    "        prompt_cfg = {\n",
    "            'instruction': DEFAULT_PROMPTS[task]['instruction'],\n",
    "            'examples': DEFAULT_PROMPTS[task]['examples'],\n",
    "            'post_prompt': DEFAULT_PROMPTS[task]['post_prompt'],\n",
    "            'template': LongMIT_DEFAULT_TEMPLATE,\n",
    "            'chat_template': True,\n",
    "        }\n",
    "        prompt_name = [f'{k}_yes' if prompt_cfg[k] else f'{k}_no' for k in prompt_cfg if k != 'template']\n",
    "        prompt_name = '_'.join(prompt_name)\n",
    "\n",
    "        target, context, question = sample['target'], sample['input'], sample['question']\n",
    "        input_text = get_formatted_input(\n",
    "            context, question, prompt_cfg['examples'],\n",
    "            prompt_cfg['instruction'], prompt_cfg['post_prompt'],\n",
    "            template=prompt_cfg['template']\n",
    "        )\n",
    "\n",
    "        all_clues = sample['reference'].tolist()\n",
    "        attack_clues = list(set(sample['facts'].tolist()) - set(all_clues))\n",
    "\n",
    "        anlysis_data.append({\n",
    "            \"prompt\": input_text,\n",
    "            \"message\": [\n",
    "                {\"role\": \"user\", \"content\": input_text}, \n",
    "                {\"role\": \"assistant\", \"content\": target}\n",
    "            ],\n",
    "            \"all_clues\": all_clues,\n",
    "            \"attack_clues\": attack_clues,\n",
    "            \"length\": sample['f']\n",
    "        })\n",
    "\n",
    "    anlysis_data = Dataset.from_list(anlysis_data)\n",
    "    dataset_dict = DatasetDict({\n",
    "        \"train\": anlysis_data\n",
    "    })\n",
    "\n",
    "    dataset_dict.save_to_disk(f\"/mnt/petrelfs/tangzecheng/local_data/analysis_multihop_data/babilong_{task}\")"
   ]
  }
 ],
 "metadata": {
  "kernelspec": {
   "display_name": "zecheng",
   "language": "python",
   "name": "python3"
  },
  "language_info": {
   "codemirror_mode": {
    "name": "ipython",
    "version": 3
   },
   "file_extension": ".py",
   "mimetype": "text/x-python",
   "name": "python",
   "nbconvert_exporter": "python",
   "pygments_lexer": "ipython3",
   "version": "3.10.4"
  }
 },
 "nbformat": 4,
 "nbformat_minor": 2
}
