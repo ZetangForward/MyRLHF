{
 "cells": [
  {
   "cell_type": "code",
   "execution_count": 4,
   "metadata": {},
   "outputs": [
    {
     "name": "stderr",
     "output_type": "stream",
     "text": [
      "\u001b[32m2024-11-19 00:31:12.772\u001b[0m | \u001b[1mINFO    \u001b[0m | \u001b[36mmodelzipper.tutils\u001b[0m:\u001b[36mauto_read_data\u001b[0m:\u001b[36m182\u001b[0m - \u001b[1mbegin to read data from /mnt/petrelfs/tangzecheng/local_data/inference_results/llama-3_1-8B-Instruct/rapid_multiple_api/tool_location/preds_rapid_multiple_api.jsonl | file size: 234.32 MB | file type: jsonl\u001b[0m\n"
     ]
    }
   ],
   "source": [
    "from modelzipper.tutils import *\n",
    "from pprint import pprint\n",
    "\n",
    "preds_rapid_multiple_api = auto_read_data(\"/mnt/petrelfs/tangzecheng/local_data/inference_results/llama-3_1-8B-Instruct/rapid_multiple_api/tool_location/preds_rapid_multiple_api.jsonl\")\n"
   ]
  },
  {
   "cell_type": "code",
   "execution_count": 5,
   "metadata": {},
   "outputs": [
    {
     "data": {
      "text/plain": [
       "1592"
      ]
     },
     "execution_count": 5,
     "metadata": {},
     "output_type": "execute_result"
    }
   ],
   "source": [
    "len(preds_rapid_multiple_api)"
   ]
  },
  {
   "cell_type": "code",
   "execution_count": 3,
   "metadata": {},
   "outputs": [
    {
     "name": "stdout",
     "output_type": "stream",
     "text": [
      "2\n",
      "<API_381>\n",
      ">>> api_name: hashtags\n",
      ">>> api_description: Generate hashtags from a given text.\n",
      ">>> param_properties:\n",
      "property_name: content-type | description: None | type: STRING | default_value: None\n",
      "property_name: text | description: None | type: STRING | default_value: None\n",
      ">>> required_properties: content-type, text\n",
      "</API_381>\n",
      "------------------------------\n",
      "<API_210>\n",
      ">>> api_name: qr_code\n",
      ">>> api_description: Generate a QR Code from a link or a text.\n",
      ">>> param_properties:\n",
      "property_name: content-type | description: None | type: STRING | default_value: None\n",
      "property_name: text | description: None | type: STRING | default_value: None\n",
      ">>> required_properties: content-type, text\n",
      "</API_210>\n",
      "------------------------------\n"
     ]
    }
   ],
   "source": [
    "import re\n",
    "text = preds_rapid_multiple_api[0]['pred'][0] + preds_rapid_multiple_api[0]['pred'][0]\n",
    "pattern = r\"<API_\\d+>\\s*>>>.*?</API_\\d+>\"\n",
    "match = re.findall(pattern, text, re.DOTALL)\n",
    "match = list(set(match))\n",
    "print(len(match))\n",
    "\n",
    "# 输出匹配的 API 块\n",
    "for m in match:\n",
    "    print(m)\n",
    "    print(\"-\" * 30)"
   ]
  },
  {
   "cell_type": "code",
   "execution_count": 33,
   "metadata": {},
   "outputs": [
    {
     "name": "stdout",
     "output_type": "stream",
     "text": [
      "('<PLAN>\\n'\n",
      " '\\n'\n",
      " '1.  Use the <API_379> endpoint to retrieve the advanced search parameters '\n",
      " \"for a kanji character with a radical position of 'hen' in the hiragana or \"\n",
      " 'romaji system.\\n'\n",
      " '2.  Use the <API_380> endpoint to find the kanji character with a simplified '\n",
      " \"English meaning of 'parent' using the obtained search parameters.\\n\"\n",
      " '\\n'\n",
      " '</PLAN>\\n'\n",
      " '\\n'\n",
      " '<API_379>\\n'\n",
      " '>>> api_name: radical_position\\n'\n",
      " '>>> api_description: The Advanced Search URL parameters are described here '\n",
      " 'as individual endpoints to permit per parameter testing. Parameters may be '\n",
      " 'combined as required.\\n'\n",
      " '>>> param_properties:\\n'\n",
      " 'property_name: rpos | description: Hiragana or romaji | type: STRING | '\n",
      " 'default_value: None\\n'\n",
      " '>>> required_properties: rpos\\n'\n",
      " '</API_379>\\n'\n",
      " '\\n'\n",
      " '<API_380>\\n'\n",
      " '>>> api_name: kanji_english_meaning\\n'\n",
      " '>>> api_description: The Advanced Search URL parameters are described here '\n",
      " 'as individual endpoints to permit per parameter testing. Parameters may be '\n",
      " 'combined as required.\\n'\n",
      " '>>> param_properties:\\n'\n",
      " 'property_name: kem | description: Simplified English kanji meaning | type: '\n",
      " 'STRING | default_value: None\\n'\n",
      " '>>> required_properties: kem\\n'\n",
      " '</API_380>\\n'\n",
      " '\\n'\n",
      " '<ANSWER>\\n'\n",
      " '\\n'\n",
      " 'To retrieve the advanced search parameters for a kanji character with a '\n",
      " \"radical position of 'hen' in the hiragana or romaji system, we can call the \"\n",
      " \"<API_379> endpoint with the 'rpos' parameter set to 'hen'. This will return \"\n",
      " 'the required search parameters.\\n'\n",
      " '\\n'\n",
      " 'Then, to find the kanji character with a simplified English meaning of '\n",
      " \"'parent', we can call the <API_380> endpoint with the 'kem' parameter set to \"\n",
      " \"'parent'. This will return the required kanji character.\\n\"\n",
      " '\\n'\n",
      " 'Here is the complete API call:\\n'\n",
      " '\\n'\n",
      " '<API_379>\\n'\n",
      " '>>> api_name: radical_position\\n'\n",
      " '>>> param_properties:\\n'\n",
      " '<PARAM>rpos</PARAM><VALUE>hen</VALUE>\\n'\n",
      " '</API_379>\\n'\n",
      " '\\n'\n",
      " '<API_380>\\n'\n",
      " '>>> api_name: kanji_english_meaning\\n'\n",
      " '>>> param_properties:\\n'\n",
      " '<PARAM>kem</PARAM><VALUE>parent</VALUE>\\n'\n",
      " '</API_380>\\n'\n",
      " '\\n'\n",
      " 'The response from the <API_379> endpoint will be in the form of a JSON '\n",
      " 'object containing the required search parameters, which can then be used to '\n",
      " 'call the <API_380> endpoint to retrieve the kanji character with the '\n",
      " \"simplified English meaning of 'parent'.\\n\"\n",
      " '\\n'\n",
      " 'The response from the <API_380> endpoint will be the kanji character with '\n",
      " \"the simplified English meaning of 'parent', along with its other relevant \"\n",
      " 'information.\\n'\n",
      " '\\n'\n",
      " '</ANSWER>')\n"
     ]
    }
   ],
   "source": [
    "pprint(preds_rapid_multiple_api[0]['pred'][0])"
   ]
  },
  {
   "cell_type": "code",
   "execution_count": 6,
   "metadata": {},
   "outputs": [
    {
     "name": "stdout",
     "output_type": "stream",
     "text": [
      "('<TOOL_DOC>\\n'\n",
      " '<API_381>\\n'\n",
      " '>>> api_name: hashtags\\n'\n",
      " '>>> api_description: Generate hashtags from a given text.\\n'\n",
      " '>>> param_properties:\\n'\n",
      " 'property_name: content-type | description: None | type: STRING | '\n",
      " 'default_value: None\\n'\n",
      " 'property_name: text | description: None | type: STRING | default_value: '\n",
      " 'None\\n'\n",
      " '>>> required_properties: content-type, text\\n'\n",
      " '</API_381>\\n'\n",
      " '<API_210>\\n'\n",
      " '>>> api_name: qr_code\\n'\n",
      " '>>> api_description: Generate a QR Code from a link or a text.\\n'\n",
      " '>>> param_properties:\\n'\n",
      " 'property_name: content-type | description: None | type: STRING | '\n",
      " 'default_value: None\\n'\n",
      " 'property_name: text | description: None | type: STRING | default_value: '\n",
      " 'None\\n'\n",
      " '>>> required_properties: content-type, text\\n'\n",
      " '</API_210>\\n'\n",
      " '</TOOL_DOC>')\n"
     ]
    }
   ],
   "source": [
    "pprint(preds_rapid_multiple_api[0]['source_docs'])"
   ]
  }
 ],
 "metadata": {
  "language_info": {
   "name": "python"
  }
 },
 "nbformat": 4,
 "nbformat_minor": 2
}
