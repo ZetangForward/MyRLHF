{
 "cells": [
  {
   "cell_type": "code",
   "execution_count": 17,
   "metadata": {},
   "outputs": [
    {
     "data": {
      "text/plain": [
       "['4-hop_sid-15_pid-0_1-4-6-8-9.pkl',\n",
       " '4-hop_sid-17_pid-2_1-2-3-7-9.pkl',\n",
       " '4-hop_sid-17_pid-0_1-4-6-8-9.pkl',\n",
       " '4-hop_sid-7_pid-0_1-4-6-8-9.pkl',\n",
       " '4-hop_sid-3_pid-1_2-5-6-8-9.pkl',\n",
       " '4-hop_sid-7_pid-1_2-5-6-8-9.pkl',\n",
       " '4-hop_sid-1_pid-1_0-1-3-5-8.pkl',\n",
       " '4-hop_sid-19_pid-2_1-2-3-7-9.pkl',\n",
       " '4-hop_sid-5_pid-2_1-2-3-7-9.pkl',\n",
       " '4-hop_sid-23_pid-2_1-2-3-7-9.pkl',\n",
       " '4-hop_sid-5_pid-0_1-4-6-8-9.pkl',\n",
       " '4-hop_sid-3_pid-0_1-4-6-8-9.pkl',\n",
       " '4-hop_sid-19_pid-0_1-4-6-8-9.pkl',\n",
       " '4-hop_sid-17_pid-1_2-5-6-8-9.pkl',\n",
       " '4-hop_sid-23_pid-1_2-5-6-8-9.pkl',\n",
       " '4-hop_sid-21_pid-0_1-4-6-8-9.pkl',\n",
       " '4-hop_sid-15_pid-2_1-2-3-7-9.pkl',\n",
       " '4-hop_sid-21_pid-1_2-5-6-8-9.pkl',\n",
       " '4-hop_sid-5_pid-1_2-5-6-8-9.pkl',\n",
       " '4-hop_sid-23_pid-0_1-4-6-8-9.pkl',\n",
       " '4-hop_sid-9_pid-1_2-5-6-8-9.pkl',\n",
       " '4-hop_sid-13_pid-2_1-2-3-7-9.pkl',\n",
       " '4-hop_sid-11_pid-1_2-5-6-8-9.pkl',\n",
       " '4-hop_sid-1_pid-0_1-3-4-5-8.pkl',\n",
       " '4-hop_sid-15_pid-1_2-5-6-8-9.pkl',\n",
       " '4-hop_sid-1_pid-2_0-1-2-4-5.pkl',\n",
       " '4-hop_sid-11_pid-2_1-2-3-7-9.pkl',\n",
       " '4-hop_sid-9_pid-0_1-4-6-8-9.pkl',\n",
       " '4-hop_sid-21_pid-2_1-2-3-7-9.pkl',\n",
       " '4-hop_sid-11_pid-0_1-4-6-8-9.pkl',\n",
       " '4-hop_sid-7_pid-2_1-2-3-7-9.pkl',\n",
       " '4-hop_sid-13_pid-1_2-5-6-8-9.pkl',\n",
       " '4-hop_sid-3_pid-2_1-2-3-7-9.pkl',\n",
       " '4-hop_sid-19_pid-1_2-5-6-8-9.pkl',\n",
       " '4-hop_sid-13_pid-0_1-4-6-8-9.pkl',\n",
       " '4-hop_sid-9_pid-2_1-2-3-7-9.pkl']"
      ]
     },
     "execution_count": 17,
     "metadata": {},
     "output_type": "execute_result"
    }
   ],
   "source": [
    "import pickle\n",
    "data_dir =\"/mnt/petrelfs/tangzecheng/repos/Long-form-reasoning/preliminary/babilong_random5x100/results/information_flow_normal_max12k_sample3x100_gws_control_new/Meta-Llama-3.1-8B-Instruct_factor0.01/11900/label/\"\n",
    "\n",
    "import os\n",
    "\n",
    "os.listdir(data_dir)"
   ]
  },
  {
   "cell_type": "code",
   "execution_count": 18,
   "metadata": {},
   "outputs": [
    {
     "data": {
      "text/plain": [
       "{'pred_res_origin': 'the kitchen<|eot_id|>',\n",
       " 'pred_res': 'assistant<|eot_id|>',\n",
       " 'answer': 'hallway',\n",
       " 'score': 0}"
      ]
     },
     "execution_count": 18,
     "metadata": {},
     "output_type": "execute_result"
    }
   ],
   "source": [
    "data = pickle.load(open(f\"{data_dir}/4-hop_sid-9_pid-2_1-2-3-7-9.pkl\",\"rb\"))\n",
    "data"
   ]
  },
  {
   "cell_type": "code",
   "execution_count": null,
   "metadata": {},
   "outputs": [],
   "source": []
  },
  {
   "cell_type": "code",
   "execution_count": null,
   "metadata": {},
   "outputs": [],
   "source": []
  }
 ],
 "metadata": {
  "kernelspec": {
   "display_name": "zecheng",
   "language": "python",
   "name": "python3"
  },
  "language_info": {
   "codemirror_mode": {
    "name": "ipython",
    "version": 3
   },
   "file_extension": ".py",
   "mimetype": "text/x-python",
   "name": "python",
   "nbconvert_exporter": "python",
   "pygments_lexer": "ipython3",
   "version": "3.10.4"
  }
 },
 "nbformat": 4,
 "nbformat_minor": 2
}
