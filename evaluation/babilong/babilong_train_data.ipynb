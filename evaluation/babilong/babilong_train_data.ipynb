{
 "cells": [
  {
   "cell_type": "code",
   "execution_count": 1,
   "metadata": {},
   "outputs": [
    {
     "name": "stderr",
     "output_type": "stream",
     "text": [
      "/mnt/petrelfs/tangzecheng/anaconda3/envs/zecheng/lib/python3.10/site-packages/tqdm/auto.py:21: TqdmWarning: IProgress not found. Please update jupyter and ipywidgets. See https://ipywidgets.readthedocs.io/en/stable/user_install.html\n",
      "  from .autonotebook import tqdm as notebook_tqdm\n"
     ]
    }
   ],
   "source": [
    "from datasets import load_dataset, concatenate_datasets\n",
    "\n",
    "data = load_dataset('RMT-team/babilong-train-5k-samples', '0k')"
   ]
  },
  {
   "cell_type": "code",
   "execution_count": 2,
   "metadata": {},
   "outputs": [
    {
     "data": {
      "text/plain": [
       "DatasetDict({\n",
       "    qa1: Dataset({\n",
       "        features: ['input', 'question', 'target'],\n",
       "        num_rows: 5000\n",
       "    })\n",
       "    qa2: Dataset({\n",
       "        features: ['input', 'question', 'target'],\n",
       "        num_rows: 5000\n",
       "    })\n",
       "    qa3: Dataset({\n",
       "        features: ['input', 'question', 'target'],\n",
       "        num_rows: 5000\n",
       "    })\n",
       "    qa4: Dataset({\n",
       "        features: ['input', 'question', 'target'],\n",
       "        num_rows: 5000\n",
       "    })\n",
       "    qa5: Dataset({\n",
       "        features: ['input', 'question', 'target'],\n",
       "        num_rows: 5000\n",
       "    })\n",
       "    qa6: Dataset({\n",
       "        features: ['input', 'question', 'target'],\n",
       "        num_rows: 5000\n",
       "    })\n",
       "    qa7: Dataset({\n",
       "        features: ['input', 'question', 'target'],\n",
       "        num_rows: 5000\n",
       "    })\n",
       "    qa8: Dataset({\n",
       "        features: ['input', 'question', 'target'],\n",
       "        num_rows: 5000\n",
       "    })\n",
       "    qa9: Dataset({\n",
       "        features: ['input', 'question', 'target'],\n",
       "        num_rows: 5000\n",
       "    })\n",
       "    qa10: Dataset({\n",
       "        features: ['input', 'question', 'target'],\n",
       "        num_rows: 5000\n",
       "    })\n",
       "})"
      ]
     },
     "execution_count": 2,
     "metadata": {},
     "output_type": "execute_result"
    }
   ],
   "source": [
    "data"
   ]
  }
 ],
 "metadata": {
  "kernelspec": {
   "display_name": "zecheng",
   "language": "python",
   "name": "python3"
  },
  "language_info": {
   "codemirror_mode": {
    "name": "ipython",
    "version": 3
   },
   "file_extension": ".py",
   "mimetype": "text/x-python",
   "name": "python",
   "nbconvert_exporter": "python",
   "pygments_lexer": "ipython3",
   "version": "3.10.4"
  }
 },
 "nbformat": 4,
 "nbformat_minor": 2
}
