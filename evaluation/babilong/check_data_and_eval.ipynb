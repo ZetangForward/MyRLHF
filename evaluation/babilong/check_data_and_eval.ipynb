{
 "cells": [
  {
   "cell_type": "markdown",
   "id": "5fac0ed5",
   "metadata": {},
   "source": [
    "所有的生成结果\n",
    "1. /data/zecheng/acl2025/MyRLHF/evaluation/babilong/llama-3_1-8B-Instruct/preliminary/preds_llama-3_1-8B-Instruct_top_n.pkl\n",
    "2. /data/zecheng/acl2025/MyRLHF/evaluation/babilong/llama-3_1-8B-Instruct/preliminary/preds_o1-llama-3_1-8B-Instruct_top_p.pkl\n",
    "3. /data/zecheng/acl2025/MyRLHF/evaluation/babilong/Qwen-2-5-7b-instruct/preliminary/preds_o1-Qwen2.5-7B-Instruct-Instruct_top_n.pkl\n",
    "4. /data/zecheng/acl2025/MyRLHF/evaluation/babilong/Qwen-2-5-7b-instruct/preliminary/preds_Qwen2.5-7B-Instruct-Instruct_top_n.pkl\n"
   ]
  },
  {
   "cell_type": "code",
   "execution_count": null,
   "id": "6647be60-916f-4eb5-92ed-9cc383add69b",
   "metadata": {},
   "outputs": [
    {
     "name": "stdout",
     "output_type": "stream",
     "text": [
      "Hi! I'm an AI here to assist you. You can call me Doubao. Is there anything I can do for you?\n"
     ]
    }
   ],
   "source": [
    "from modelzipper.tutils import *\n",
    "from pprint import pprint\n",
    "\n",
    "# 启动评测模型, 下面的代码会启动一个评测模型, 并且调用模型进行测试\n",
    "client = init_doubao_api()  # 初始化代理，初始化一遍就行\n",
    "gen_args = dict(max_tokens=50)  # 默认的生成参数，参考OpenAPI文档\n",
    "\n",
    "testing_case = call_with_messages(client, model_name=\"doubao-pro-4k\", system_message=\"You are a helpful assistant.\", user_query=\"Hi, who are you?\", args=gen_args)  # 后面只要调用这个语句就可以返回生成结果\n",
    "print(testing_case['response'])"
   ]
  },
  {
   "cell_type": "code",
   "execution_count": null,
   "id": "cd398b25",
   "metadata": {},
   "outputs": [],
   "source": [
    "\n",
    "# top_n setting\n",
    "content = auto_read_data(\"/data/zecheng/acl2025/MyRLHF/evaluation/babilong/llama-3_1-8B-Instruct/preliminary/preds_llama-3_1-8B-Instruct_top_n.pkl\")\n",
    "pprint(content[0])\n",
    "## zecheng note: top_n setting -> 对于一条query，模型提供的top_n个答案，排在前面的答案生成概率越大。评测的时候，只要有一个答案在top_n里面，就算对了。\n",
    "## 这里可以同时用自动指标，也可以用模型评测。用模型评测的时候，如果和答案一致就是1，否则就是0"
   ]
  },
  {
   "cell_type": "code",
   "execution_count": null,
   "id": "aecf38a6",
   "metadata": {},
   "outputs": [
    {
     "name": "stdout",
     "output_type": "stream",
     "text": [
      "\u001b[35mbegin to read data from /data/zecheng/acl2025/MyRLHF/evaluation/babilong/llama-3_1-8B-Instruct/preliminary/preds_o1-llama-3_1-8B-Instruct_top_p.pkl | file size: 15.49 MB | file type: pkl\u001b[0m\n",
      "{'all_facts': ['Sandra travelled to the bathroom.',\n",
      "               'Daniel travelled to the hallway.',\n",
      "               'Daniel went to the bedroom.',\n",
      "               'John went back to the kitchen.',\n",
      "               'Daniel journeyed to the kitchen.',\n",
      "               'Mary travelled to the hallway.',\n",
      "               'Daniel moved to the office.',\n",
      "               'Daniel grabbed the football.',\n",
      "               'Daniel picked up the apple.',\n",
      "               'Mary journeyed to the office.',\n",
      "               'Daniel went to the bathroom.',\n",
      "               'Daniel discarded the football.',\n",
      "               'Daniel took the football.',\n",
      "               'Daniel went to the office.',\n",
      "               'John went back to the garden.',\n",
      "               'Sandra went to the garden.',\n",
      "               'Sandra got the milk.',\n",
      "               'Sandra moved to the hallway.',\n",
      "               'Sandra put down the milk.',\n",
      "               'Mary went to the bedroom.',\n",
      "               'Daniel left the football.',\n",
      "               'Mary moved to the hallway.',\n",
      "               'Daniel left the apple.',\n",
      "               'Mary moved to the bedroom.',\n",
      "               'John went to the office.',\n",
      "               'Mary journeyed to the bathroom.',\n",
      "               'Mary travelled to the kitchen.',\n",
      "               'Sandra picked up the milk.',\n",
      "               'Sandra put down the milk.',\n",
      "               'John grabbed the apple.',\n",
      "               'Daniel went to the kitchen.',\n",
      "               'Daniel went to the bedroom.',\n",
      "               'John travelled to the hallway.',\n",
      "               'Sandra grabbed the milk.',\n",
      "               'John journeyed to the office.',\n",
      "               'Sandra journeyed to the kitchen.',\n",
      "               'John grabbed the football.',\n",
      "               'John dropped the football there.',\n",
      "               'Mary travelled to the bathroom.',\n",
      "               'John discarded the apple.',\n",
      "               'Mary went back to the kitchen.',\n",
      "               'John grabbed the apple.',\n",
      "               'John grabbed the football.',\n",
      "               'John left the football.',\n",
      "               'John went to the bedroom.',\n",
      "               'Mary travelled to the office.',\n",
      "               'Mary picked up the football.',\n",
      "               'Sandra went back to the bedroom.',\n",
      "               'Sandra moved to the bathroom.',\n",
      "               'Sandra dropped the milk there.'],\n",
      " 'ctx_length': '8k',\n",
      " 'golden': 'bedroom',\n",
      " 'pred': ['**Step 1: Identify the Locations and Actions**\\n'\n",
      "          'To answer the question, we need to identify the locations and '\n",
      "          'actions of the characters in the given context.\\n'\n",
      "          '\\n'\n",
      "          ' Locations: \\n'\n",
      "          '- Bedroom\\n'\n",
      "          '- Bathroom\\n'\n",
      "          '- Office\\n'\n",
      "          '- Garden\\n'\n",
      "          '- Kitchen\\n'\n",
      "          '- Hallway\\n'\n",
      "          '- Parsonage\\n'\n",
      "          '- Manar\\n'\n",
      "          '- Church\\n'\n",
      "          \"- Cross-Roads' Meeting-House\\n\"\n",
      "          '- Lake Road\\n'\n",
      "          '- Side Porch\\n'\n",
      "          '- Parsonage Garden\\n'\n",
      "          '- Back Porch\\n'\n",
      "          '\\n'\n",
      "          ' Actions:\\n'\n",
      "          '- Grab'],\n",
      " 'question': 'Where was the milk before the bathroom? ',\n",
      " 'reference_list': [' Sandra went back to the bedroom.',\n",
      "                    ' Sandra moved to the bathroom.',\n",
      "                    ' Sandra dropped the milk there.'],\n",
      " 'task': 'qa3'}\n"
     ]
    }
   ],
   "source": [
    "\n",
    "# o1 setting\n",
    "content = auto_read_data(\"/data/zecheng/acl2025/MyRLHF/evaluation/babilong/llama-3_1-8B-Instruct/preliminary/preds_o1-llama-3_1-8B-Instruct_top_p.pkl\")\n",
    "pprint(content[0])\n",
    "## zecheng note: o1 setting -> 对于一条query，模型会进行显示思考链，答案在思考链条中，这个时候需要用模型对结果进行评测。"
   ]
  }
 ],
 "metadata": {
  "kernelspec": {
   "display_name": "zecheng",
   "language": "python",
   "name": "python3"
  },
  "language_info": {
   "codemirror_mode": {
    "name": "ipython",
    "version": 3
   },
   "file_extension": ".py",
   "mimetype": "text/x-python",
   "name": "python",
   "nbconvert_exporter": "python",
   "pygments_lexer": "ipython3",
   "version": "3.10.14"
  }
 },
 "nbformat": 4,
 "nbformat_minor": 5
}
