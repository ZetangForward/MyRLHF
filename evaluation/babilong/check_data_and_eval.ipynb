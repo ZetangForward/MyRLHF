{
 "cells": [
  {
   "cell_type": "code",
   "execution_count": 7,
   "id": "6647be60-916f-4eb5-92ed-9cc383add69b",
   "metadata": {},
   "outputs": [],
   "source": [
    "from modelzipper.tutils import *\n",
    "import pickle\n",
    "\n",
    "# 读取 .pkl 文件\n",
    "with open(\"/mnt/petrelfs/tangzecheng/MyRLHF/evaluation/babilong/llama-3_1-8B-Instruct/preliminary/preds_llama-3_1-8B-Instruct_top_n.pkl\", \"rb\") as file:  # 使用 \"rb\" 模式读取二进制文件\n",
    "    loaded_data = pickle.load(file)"
   ]
  },
  {
   "cell_type": "code",
   "execution_count": 8,
   "id": "aecf38a6",
   "metadata": {},
   "outputs": [
    {
     "data": {
      "text/plain": [
       "{'golden': 'office',\n",
       " 'task': 'qa3',\n",
       " 'reference_list': [' John picked up the apple.',\n",
       "  ' John moved to the office.',\n",
       "  ' John travelled to the bathroom.'],\n",
       " 'ctx_length': '16k',\n",
       " 'question': 'Where was the apple before the bathroom? ',\n",
       " 'all_facts': ['John picked up the apple.',\n",
       "  'John moved to the office.',\n",
       "  'John travelled to the bathroom.'],\n",
       " 'pred': ['Before the bathroom the apple was in the office.',\n",
       "  'Before the bathroom John was in the bedroom.',\n",
       "  'Before the bathroom John was in the bedroom.',\n",
       "  'Before the bathroom John travelled.',\n",
       "  'Before the bathroom the apple was in the office.']}"
      ]
     },
     "execution_count": 8,
     "metadata": {},
     "output_type": "execute_result"
    }
   ],
   "source": [
    "loaded_data[0]"
   ]
  }
 ],
 "metadata": {
  "kernelspec": {
   "display_name": "zecheng_new",
   "language": "python",
   "name": "python3"
  },
  "language_info": {
   "codemirror_mode": {
    "name": "ipython",
    "version": 3
   },
   "file_extension": ".py",
   "mimetype": "text/x-python",
   "name": "python",
   "nbconvert_exporter": "python",
   "pygments_lexer": "ipython3",
   "version": "3.10.4"
  }
 },
 "nbformat": 4,
 "nbformat_minor": 5
}
