{
 "cells": [
  {
   "cell_type": "markdown",
   "id": "5fac0ed5",
   "metadata": {},
   "source": [
    "所有的生成结果\n",
    "1. /data/zecheng/acl2025/MyRLHF/evaluation/babilong/llama-3_1-8B-Instruct/preliminary/preds_llama-3_1-8B-Instruct_top_n.pkl\n",
    "2. /data/zecheng/acl2025/MyRLHF/evaluation/babilong/llama-3_1-8B-Instruct/preliminary/preds_o1-llama-3_1-8B-Instruct_top_p.pkl\n",
    "3. /data/zecheng/acl2025/MyRLHF/evaluation/babilong/Qwen-2-5-7b-instruct/preliminary/preds_o1-Qwen2.5-7B-Instruct-Instruct_top_n.pkl\n",
    "4. /data/zecheng/acl2025/MyRLHF/evaluation/babilong/Qwen-2-5-7b-instruct/preliminary/preds_Qwen2.5-7B-Instruct-Instruct_top_n.pkl\n"
   ]
  },
  {
   "cell_type": "code",
   "execution_count": 19,
   "id": "ba6ee1d0",
   "metadata": {},
   "outputs": [],
   "source": [
    "\n",
    "\n",
    "import os,time\n",
    "from typing import Optional, List\n",
    "from openai import OpenAI\n",
    "\n",
    "def chat(ak       : str = \"ea28bf46-979c-49b9-b08a-92303bb99052\", \n",
    "         url      : str = \"https://ark.cn-beijing.volces.com/api/v3\", \n",
    "         model    : str = \"ep-20240725161435-hjkcn\",\n",
    "         message  : Optional[str] = None, \n",
    "         template : List  = None, \n",
    "         **kwargs\n",
    "         ) -> Optional[None | str]:\n",
    "    # ....\n",
    "\n",
    "    # 1. 封装 message 到template 里面，如果用户没有提供message，用默认的template封装\n",
    "    # try：、、 sleep 5 s, try 3 次失败返回None\n",
    "    # 2. 输入到API(model 默认是gpt40)\n",
    "    \n",
    "    \n",
    "    client = OpenAI(\n",
    "    api_key = ak,\n",
    "    base_url = url,\n",
    "    )\n",
    "\n",
    "\n",
    "    messages=template if message is None \\\n",
    "        else [{\"role\":\"user\",\"content\":message}]\n",
    "\n",
    "    while True:\n",
    "        error_times=0\n",
    "        try:\n",
    "            response = client.chat.completions.create(\n",
    "                model=model,\n",
    "                messages=messages,\n",
    "                **kwargs\n",
    "            )\n",
    "            return response.choices[0].message.content\n",
    "        except Exception as e:\n",
    "            if error_times==3:break\n",
    "            print(f\"发生错误: {str(e)}\")\n",
    "            print(\"5秒后重试...\")\n",
    "            time.sleep(5)\n",
    "            error_times+=1\n",
    "\n",
    "    print(\"询问失败! 返回 None\")"
   ]
  },
  {
   "cell_type": "code",
   "execution_count": null,
   "id": "f8db5980",
   "metadata": {},
   "outputs": [
    {
     "data": {
      "text/plain": [
       "'常见的十字花科'"
      ]
     },
     "execution_count": 22,
     "metadata": {},
     "output_type": "execute_result"
    }
   ],
   "source": [
    "chat(template=[\n",
    "        {\"role\": \"system\", \"content\": \"你是豆包，是由字节跳动开发的 AI 人工智能助手\"},\n",
    "        {\"role\": \"user\", \"content\": \"常见的动物物有哪些？\"},\n",
    "        {\"role\": \"assistant\", \"content\": \"猫\"},\n",
    "        {\"role\": \"user\", \"content\": \"常见的十字花科植物有哪些？\"},\n",
    "    ],max_tokens=5)"
   ]
  },
  {
   "cell_type": "code",
   "execution_count": null,
   "id": "51ef934c",
   "metadata": {},
   "outputs": [
    {
     "name": "stdout",
     "output_type": "stream",
     "text": [
      "----- standard request -----\n",
      "常见的十字花科植物有很多，以下是一些例子：\n",
      "1. **白菜**：包括大白菜、小白菜等。\n",
      "2. **萝卜**：如白萝卜、红萝卜等。\n",
      "3. **甘蓝**：如卷心菜、紫甘蓝等。\n",
      "4. **芥菜**：有多个品种。\n",
      "5. **西兰花**：营养丰富。\n",
      "6. **花椰菜**（菜花）。\n",
      "7. **油菜**。\n",
      "----- streaming request -----\n"
     ]
    }
   ],
   "source": [
    "\n",
    "client = OpenAI(\n",
    "    api_key = \"ea28bf46-979c-49b9-b08a-92303bb99052\",\n",
    "    base_url = \"https://ark.cn-beijing.volces.com/api/v3\",\n",
    ")\n",
    "\n",
    "# Non-streaming:\n",
    "print(\"----- standard request -----\")\n",
    "completion = client.chat.completions.create(\n",
    "    model = \"ep-20240725161435-hjkcn\",  # your model endpoint ID\n",
    "    messages = [\n",
    "        {\"role\": \"system\", \"content\": \"你是豆包，是由字节跳动开发的 AI 人工智能助手\"},\n",
    "        {\"role\": \"user\", \"content\": \"常见的十字花科植物有哪些？\"},\n",
    "    ],\n",
    ")\n",
    "print(completion.choices[0].message.content)\n",
    "\n",
    "# Streaming:\n",
    "print(\"----- streaming request -----\")\n",
    "stream = client.chat.completions.create(\n",
    "    model = \"ep-20240725161435-hjkcn\",  # your model endpoint ID\n",
    "    messages = [\n",
    "        {\"role\": \"system\", \"content\": \"你是豆包，是由字节跳动开发的 AI 人工智能助手\"},\n",
    "        \n",
    "        {\"role\": \"user\", \"content\": \"常见的十字花科植物有哪些？\"},\n",
    "        \n",
    "    ],\n",
    "    # stream=True\n",
    ")\n",
    "\n",
    "# for chunk in stream:\n",
    "#     if not chunk.choices:\n",
    "#         continue\n",
    "#     print(chunk.choices[0].delta.content, end=\"\")\n",
    "# print()"
   ]
  },
  {
   "cell_type": "code",
   "execution_count": null,
   "id": "1f1a3c97",
   "metadata": {},
   "outputs": [
    {
     "ename": "IndexError",
     "evalue": "list index out of range",
     "output_type": "error",
     "traceback": [
      "\u001b[0;31m---------------------------------------------------------------------------\u001b[0m",
      "\u001b[0;31mIndexError\u001b[0m                                Traceback (most recent call last)",
      "Cell \u001b[0;32mIn[39], line 1\u001b[0m\n\u001b[0;32m----> 1\u001b[0m \u001b[43mstream\u001b[49m\u001b[38;5;241;43m.\u001b[39;49m\u001b[43mchoices\u001b[49m\u001b[43m[\u001b[49m\u001b[38;5;241;43m1\u001b[39;49m\u001b[43m]\u001b[49m\u001b[38;5;241m.\u001b[39mmessage\u001b[38;5;241m.\u001b[39mcontent\n",
      "\u001b[0;31mIndexError\u001b[0m: list index out of range"
     ]
    }
   ],
   "source": [
    "stream.choices[0].message.content"
   ]
  },
  {
   "cell_type": "code",
   "execution_count": 1,
   "id": "eeb034c6",
   "metadata": {},
   "outputs": [],
   "source": [
    "data_paths=[\n",
    "    \"/data/zecheng/acl2025/MyRLHF/evaluation/babilong/llama-3_1-8B-Instruct/preliminary/preds_llama-3_1-8B-Instruct_top_n.pkl\",\n",
    "    \"/data/zecheng/acl2025/MyRLHF/evaluation/babilong/llama-3_1-8B-Instruct/preliminary/preds_o1-llama-3_1-8B-Instruct_top_p.pkl\",\n",
    "    \"/data/zecheng/acl2025/MyRLHF/evaluation/babilong/Qwen-2-5-7b-instruct/preliminary/preds_o1-Qwen2.5-7B-Instruct-Instruct_top_n.pkl\",\n",
    "    \"/data/zecheng/acl2025/MyRLHF/evaluation/babilong/Qwen-2-5-7b-instruct/preliminary/preds_Qwen2.5-7B-Instruct-Instruct_top_n.pkl\"\n",
    "]"
   ]
  },
  {
   "cell_type": "code",
   "execution_count": 2,
   "id": "6647be60-916f-4eb5-92ed-9cc383add69b",
   "metadata": {},
   "outputs": [
    {
     "name": "stdout",
     "output_type": "stream",
     "text": [
      "\u001b[4m\u001b[36mModelZipper is ready for launch🚀 | Current Version🦄 >>> 0.2.7 <<< | AOE Time🕒 2024-12-07 01:15:25\u001b[0m\n"
     ]
    }
   ],
   "source": [
    "from modelzipper.tutils import *\n",
    "from pprint import pprint"
   ]
  },
  {
   "cell_type": "code",
   "execution_count": 3,
   "id": "2b0f1f4f",
   "metadata": {},
   "outputs": [
    {
     "name": "stdout",
     "output_type": "stream",
     "text": [
      "{'status': 'success', 'response': \"Hello! I'm an AI here to assist you. You can call me whatever you like. How can I help you today?\", 'input': [{'role': 'system', 'content': 'You are a helpful assistant.'}, {'role': 'user', 'content': 'Hi, who are you?'}]}\n"
     ]
    }
   ],
   "source": [
    "# 启动评测模型：\n",
    "client = init_doubao_api()\n",
    "\n",
    "testing_case = call_with_messages(client, model_name=\"doubao-pro-4k\", system_message=\"You are a helpful assistant.\", user_query=\"Hi, who are you?\")\n",
    "print(testing_case)"
   ]
  },
  {
   "cell_type": "code",
   "execution_count": 4,
   "id": "cd398b25",
   "metadata": {},
   "outputs": [
    {
     "name": "stdout",
     "output_type": "stream",
     "text": [
      "\u001b[32mbegin to read data from /data/zecheng/acl2025/MyRLHF/evaluation/babilong/llama-3_1-8B-Instruct/preliminary/preds_llama-3_1-8B-Instruct_top_n.pkl | file size: 13.21 MB | file type: pkl\u001b[0m\n",
      "{'all_facts': ['John went back to the hallway.',\n",
      "               'John went to the garden.',\n",
      "               'John grabbed the apple.',\n",
      "               'John discarded the apple.',\n",
      "               'Daniel journeyed to the kitchen.',\n",
      "               'Mary journeyed to the garden.',\n",
      "               'Daniel journeyed to the bedroom.',\n",
      "               'Mary journeyed to the office.',\n",
      "               'Sandra moved to the office.',\n",
      "               'Daniel moved to the bathroom.',\n",
      "               'Mary travelled to the garden.',\n",
      "               'Daniel went back to the garden.',\n",
      "               'Mary went back to the kitchen.',\n",
      "               'John dropped the apple there.',\n",
      "               'John moved to the bathroom.',\n",
      "               'Mary journeyed to the garden.',\n",
      "               'John picked up the apple.',\n",
      "               'John moved to the office.',\n",
      "               'John travelled to the bathroom.'],\n",
      " 'ctx_length': '8k',\n",
      " 'golden': 'office',\n",
      " 'pred': ['Before the garden the apple was in the hallway.',\n",
      "          'Before the garden the apple was in the office.',\n",
      "          'Before the garden the apple was in the office.',\n",
      "          'Before the garden the apple was in the office.',\n",
      "          'Before the garden the apple was in the hallway.'],\n",
      " 'question': 'Where was the apple before the bathroom? ',\n",
      " 'reference_list': [' John picked up the apple.',\n",
      "                    ' John moved to the office.',\n",
      "                    ' John travelled to the bathroom.'],\n",
      " 'task': 'qa3'}\n"
     ]
    }
   ],
   "source": [
    "\n",
    "# top_n setting\n",
    "content = auto_read_data(\"/data/zecheng/acl2025/MyRLHF/evaluation/babilong/llama-3_1-8B-Instruct/preliminary/preds_llama-3_1-8B-Instruct_top_n.pkl\")\n",
    "pprint(content[1])\n",
    "## zecheng note: top_n setting -> 对于一条query，模型提供的top_n个答案，排在前面的答案生成概率越大。评测的时候，只要有一个答案在top_n里面，就算对了。\n",
    "## 这里可以同时用自动指标，也可以用模型评测。用模型评测的时候，如果和答案一致就是1，否则就是0"
   ]
  },
  {
   "cell_type": "code",
   "execution_count": 5,
   "id": "aecf38a6",
   "metadata": {},
   "outputs": [
    {
     "name": "stdout",
     "output_type": "stream",
     "text": [
      "\u001b[36mbegin to read data from /data/zecheng/acl2025/MyRLHF/evaluation/babilong/llama-3_1-8B-Instruct/preliminary/preds_o1-llama-3_1-8B-Instruct_top_p.pkl | file size: 26.28 MB | file type: pkl\u001b[0m\n"
     ]
    },
    {
     "name": "stdout",
     "output_type": "stream",
     "text": [
      "{'all_facts': ['Sandra went back to the bathroom.',\n",
      "               'Sandra journeyed to the kitchen.',\n",
      "               'Sandra left the football.'],\n",
      " 'ctx_length': '8k',\n",
      " 'golden': 'bathroom',\n",
      " 'pred': ['**Step 1: Identify the relevant information about Sandra and the '\n",
      "          'football**\\n'\n",
      "          '<thinking> Sandra journeyed to the kitchen, but before that, we '\n",
      "          'need to find out where she was before the kitchen, which is the '\n",
      "          'location we are interested in for the football. Sandra journeyed to '\n",
      "          'the kitchen, but the relevant information for the football is '\n",
      "          'before the journey to the kitchen, which is Sandra journeyed to the '\n",
      "          'garden, Sandra journeyed to the bedroom, Sandra journeyed to the '\n",
      "          'bathroom, Sandra journeyed to the garden, Sandra journeyed to the '\n",
      "          'bedroom, Sandra journeyed to the garden, Sandra journeyed to the '\n",
      "          'bedroom, Sandra journeyed to the garden, Sandra journeyed to the '\n",
      "          'bedroom, Sandra journeyed to the garden, Sandra journeyed to the '\n",
      "          'bedroom, Sandra journeyed to the garden, Sandra journeyed to the '\n",
      "          'bedroom, Sandra journeyed to the garden, Sandra journeyed to the '\n",
      "          'bedroom, Sandra journeyed to the garden, Sandra journeyed to the '\n",
      "          'bedroom, Sandra journeyed to the garden, Sandra journeyed to the '\n",
      "          'bedroom, Sandra journeyed to the garden, Sandra journeyed to the '\n",
      "          'bedroom, Sandra journeyed to the garden, Sandra journeyed to the '\n",
      "          'bedroom, Sandra journeyed to the garden, Sandra journeyed to the '\n",
      "          'bedroom, Sandra journeyed to the garden, Sandra journeyed to the '\n",
      "          'bedroom, Sandra journeyed to the garden, Sandra journeyed to the '\n",
      "          'bedroom, Sandra journeyed to the garden, Sandra journeyed to the '\n",
      "          'bedroom, Sandra journeyed to the garden, Sandra journeyed to the '\n",
      "          'bedroom, Sandra journeyed to the garden, Sandra journeyed to the '\n",
      "          'bedroom, Sandra journeyed to the garden, Sandra journeyed to the '\n",
      "          'bedroom, Sandra journeyed to the garden, Sandra journeyed to the '\n",
      "          'bedroom, Sandra journeyed to the garden, Sandra journeyed to the '\n",
      "          'bedroom, Sandra journeyed to the garden, Sandra journeyed to the '\n",
      "          'bedroom, Sandra journeyed to the garden, Sandra journeyed to the '\n",
      "          'bedroom, Sandra journeyed to the garden, Sandra journeyed to the '\n",
      "          'bedroom, Sandra journeyed to the garden, Sandra journeyed to the '\n",
      "          'bedroom, Sandra journeyed to the garden, Sandra journeyed to the '\n",
      "          'bedroom, Sandra journeyed to the garden, Sandra journeyed to the '\n",
      "          'bedroom, Sandra journeyed to the garden, Sandra journeyed to the '\n",
      "          'bedroom, Sandra journeyed to the garden, Sandra journeyed to the '\n",
      "          'bedroom, Sandra journeyed to the garden, Sandra journeyed to the '\n",
      "          'bedroom, Sandra journeyed to the garden, Sandra journeyed to the '\n",
      "          'bedroom, Sandra journeyed to the garden, Sandra'],\n",
      " 'question': 'Where was the football before the kitchen? ',\n",
      " 'reference_list': [' Sandra went back to the bathroom.',\n",
      "                    ' Sandra journeyed to the kitchen.',\n",
      "                    ' Sandra left the football.'],\n",
      " 'task': 'qa3'}\n"
     ]
    }
   ],
   "source": [
    "\n",
    "# o1 setting\n",
    "content = auto_read_data(\"/data/zecheng/acl2025/MyRLHF/evaluation/babilong/llama-3_1-8B-Instruct/preliminary/preds_o1-llama-3_1-8B-Instruct_top_p.pkl\")\n",
    "pprint(content[0])\n",
    "## zecheng note: o1 setting -> 对于一条query，模型会进行显示思考链，答案在思考链条中，这个时候需要用模型对结果进行评测。"
   ]
  },
  {
   "cell_type": "markdown",
   "id": "0807f83a",
   "metadata": {},
   "source": [
    "## Babilong metrics"
   ]
  },
  {
   "cell_type": "code",
   "execution_count": 6,
   "id": "c6d5d597",
   "metadata": {},
   "outputs": [],
   "source": [
    "import seaborn as sns\n",
    "import matplotlib\n",
    "import matplotlib.pylab as plt\n",
    "from matplotlib.colors import LinearSegmentedColormap\n",
    "import os\n",
    "\n",
    "import pandas as pd\n",
    "import numpy as np\n",
    "\n",
    "from source.babilong.metrics import compare_answers, TASK_LABELS"
   ]
  },
  {
   "cell_type": "code",
   "execution_count": 7,
   "id": "f4ddbf6e",
   "metadata": {},
   "outputs": [
    {
     "name": "stdout",
     "output_type": "stream",
     "text": [
      "\u001b[97mbegin to read data from /data/zecheng/acl2025/MyRLHF/evaluation/babilong/llama-3_1-8B-Instruct/preliminary/preds_llama-3_1-8B-Instruct_top_n.pkl | file size: 13.21 MB | file type: pkl\u001b[0m\n",
      "\u001b[34mbegin to read data from /data/zecheng/acl2025/MyRLHF/evaluation/babilong/llama-3_1-8B-Instruct/preliminary/preds_o1-llama-3_1-8B-Instruct_top_p.pkl | file size: 26.28 MB | file type: pkl\u001b[0m\n",
      "\u001b[36mbegin to read data from /data/zecheng/acl2025/MyRLHF/evaluation/babilong/Qwen-2-5-7b-instruct/preliminary/preds_o1-Qwen2.5-7B-Instruct-Instruct_top_n.pkl | file size: 15.47 MB | file type: pkl\u001b[0m\n",
      "\u001b[32mbegin to read data from /data/zecheng/acl2025/MyRLHF/evaluation/babilong/Qwen-2-5-7b-instruct/preliminary/preds_Qwen2.5-7B-Instruct-Instruct_top_n.pkl | file size: 12.97 MB | file type: pkl\u001b[0m\n"
     ]
    }
   ],
   "source": [
    "contents=[auto_read_data(k) for k in data_paths]"
   ]
  },
  {
   "cell_type": "code",
   "execution_count": 8,
   "id": "4edbaf79",
   "metadata": {},
   "outputs": [
    {
     "data": {
      "text/plain": [
       "{'golden': 'office',\n",
       " 'task': 'qa3',\n",
       " 'reference_list': [' John picked up the apple.',\n",
       "  ' John moved to the office.',\n",
       "  ' John travelled to the bathroom.'],\n",
       " 'ctx_length': '16k',\n",
       " 'question': 'Where was the apple before the bathroom? ',\n",
       " 'all_facts': ['John picked up the apple.',\n",
       "  'John moved to the office.',\n",
       "  'John travelled to the bathroom.'],\n",
       " 'pred': ['Before the bathroom the apple was in the office.',\n",
       "  'Before the bathroom John was in the bedroom.',\n",
       "  'Before the bathroom John was in the bedroom.',\n",
       "  'Before the bathroom John travelled.',\n",
       "  'Before the bathroom the apple was in the office.']}"
      ]
     },
     "execution_count": 8,
     "metadata": {},
     "output_type": "execute_result"
    }
   ],
   "source": [
    "contents[0][0]#.keys()\n"
   ]
  },
  {
   "cell_type": "code",
   "execution_count": 9,
   "id": "cb5e9d1f",
   "metadata": {},
   "outputs": [
    {
     "data": {
      "text/plain": [
       "{'16k', '32k', '64k', '8k'}"
      ]
     },
     "execution_count": 9,
     "metadata": {},
     "output_type": "execute_result"
    }
   ],
   "source": [
    "j=3\n",
    "set([contents[j][i]['ctx_length'] for i in range(len(contents[j]))])"
   ]
  },
  {
   "cell_type": "markdown",
   "id": "b79b70f7",
   "metadata": {},
   "source": [
    "df"
   ]
  },
  {
   "cell_type": "code",
   "execution_count": 10,
   "id": "665cfad4",
   "metadata": {},
   "outputs": [
    {
     "data": {
      "image/png": "[encoded data removed]",
      "text/plain": [
       "<Figure size 500x350 with 2 Axes>"
      ]
     },
     "metadata": {},
     "output_type": "display_data"
    }
   ],
   "source": [
    "results_folder = './babilong_evals'\n",
    "model_name = 'doubao4k'\n",
    "prompt_name = 'instruction_yes_examples_yes_post_prompt_yes_chat_template_yes'\n",
    "\n",
    "# import numpy as np\n",
    "dfs=[contents[0],contents[3]]\n",
    "tasks = [contents[0][0]['task'], contents[3][0]['task']]\n",
    "ylabels=[os.path.basename(data_paths[0]),os.path.basename(data_paths[3])]\n",
    "lengths = ['8k','16k','32k','64k']\n",
    "accuracy = np.zeros((len(tasks), len(lengths)))\n",
    "for j, task in enumerate(tasks):\n",
    "    for i, ctx_length in enumerate(lengths):\n",
    "        fname = f'./{results_folder}/{model_name}/{task}_{ctx_length}_{prompt_name}.csv'\n",
    "\n",
    "\n",
    "        df_list = [k for k in dfs[j] if k['ctx_length']==ctx_length]\n",
    "        if len(df_list)==0:\n",
    "            print(f'No such file: {fname}')\n",
    "            continue\n",
    "        # if df['output'].dtype != object:\n",
    "        #     df['output'] = df['output'].astype(str)\n",
    "        # df['output'] = df['output'].fillna('')\n",
    "        dic={}\n",
    "        for k in df_list[0].keys():\n",
    "            lst=[]\n",
    "            for t in range(len(df_list)):\n",
    "                lst+=[df_list[t][k]]\n",
    "            dic[k]=lst\n",
    "        df=pd.DataFrame(dic)\n",
    "\n",
    "        df['correct'] = df.apply(lambda row: max(compare_answers(row['golden'], row['pred'][idx],\n",
    "                                                             row['question'], TASK_LABELS[task]\n",
    "                                                             ) for idx in range(len(row['pred']))\n",
    "                                                             ), axis=1)\n",
    "        score = df['correct'].sum()\n",
    "        accuracy[j, i] = 100 * score / len(df) if len(df) > 0 else 0\n",
    "\n",
    "# Set large font sizes for better visibility in the PDF\n",
    "matplotlib.rc('font', size=14)\n",
    "\n",
    "# Create a colormap for the heatmap\n",
    "cmap = LinearSegmentedColormap.from_list('ryg', [\"red\", \"yellow\", \"green\"], N=256)\n",
    "\n",
    "# Create the heatmap\n",
    "fig, ax = plt.subplots(figsize=(5, 3.5))  # Adjust the size as necessary\n",
    "sns.heatmap(accuracy, cmap=cmap, vmin=0, vmax=100, annot=True, fmt=\".0f\",\n",
    "            linewidths=.5, xticklabels=lengths, yticklabels=ylabels, ax=ax)\n",
    "ax.set_title(f'Performance of {model_name} \\n on BABILong \\n')\n",
    "ax.set_xlabel('Context size')\n",
    "ax.set_ylabel('Tasks')\n",
    "\n",
    "# Save the figure to a PDF\n",
    "# plt.savefig('all_tasks_performance.pdf', bbox_inches='tight')\n",
    "plt.show()"
   ]
  },
  {
   "cell_type": "code",
   "execution_count": 11,
   "id": "1987aa9d",
   "metadata": {},
   "outputs": [
    {
     "name": "stdout",
     "output_type": "stream",
     "text": [
      "Where is the apple? \n",
      "hallway\n",
      "**Step 1: Analyze the context for any direct mentions of the item 'apple' and its location.**\n",
      "\n",
      "<thinking> I need to carefully read the context to find any direct mentions of the apple and its location. I will look for phrases like \"Ruby picked up the apple,\" \"the apple was in the garden,\" or \"Ruby dropped the apple in the kitchen.\" </thinking>\n",
      "\n",
      "Upon reading the context, I did not find any direct mentions of the apple and its location. However, I will continue to analyze the context for any indirect clues that might help me determine the location of the apple.\n",
      "\n",
      "**Step 2: Look for any indirect clues that might indicate the location of the apple.**\n",
      "\n",
      "<thinking> I will examine the context to see if there are any indirect clues that might suggest the location of the apple. This could include phrases like \"Ruby went to the garden\" or \"Mary grabbed the apple there.\" </thinking>\n",
      "\n",
      "Upon analyzing the context, I found that Mary grabbed the apple there, which suggests that the apple is currently in the location where Mary grabbed it. Since Mary grabbed the apple in the hallway, the apple is likely in the hallway.\n",
      "\n",
      "**Step 3: Verify the location of the apple based on the given information.**\n",
      "\n",
      "<thinking> I need to verify the location of the apple based on the given information. Since Mary grabbed the apple there, and I found no other information that contradicts this, I conclude that the apple is indeed in the hallway. </thinking>\n",
      "\n",
      "The apple is in the hallway.\n"
     ]
    }
   ],
   "source": [
    "i=23\n",
    "print(contents[1][i]['question'])\n",
    "print(contents[1][i]['golden'])\n",
    "print(contents[1][i]['pred'][0])"
   ]
  },
  {
   "cell_type": "code",
   "execution_count": 12,
   "id": "d7c6805a",
   "metadata": {},
   "outputs": [],
   "source": [
    "DOUBAO_TEMPLATES=\"\"\"You are an AI assistant that evaluates whether the response to the question is correct according to the golden label.I'll give you a question, a response and a golden label, where the golden label is the true answer to the question. You should judge whether the response to the question is the same as the golden label. Follow these instructions:\\n\\n1.You can only reply `True` or `False`,where `True` means the response to the question is the same as th golden label `False` means the opposite.\\n2.Reply True or False\"\"\"\n",
    "\n",
    "\n",
    "\n",
    "\n",
    "import os,time\n",
    "from typing import Optional, List\n",
    "from openai import OpenAI\n",
    "\n",
    "def chat(ak       : str = \"ea28bf46-979c-49b9-b08a-92303bb99052\", \n",
    "         url      : str = \"https://ark.cn-beijing.volces.com/api/v3\", \n",
    "         model    : str = \"ep-20240725161435-hjkcn\",\n",
    "         message  : Optional[str] = None, \n",
    "         template : List  = None, \n",
    "         **kwargs\n",
    "         ) -> Optional[None | str]:\n",
    "    # ....\n",
    "\n",
    "    # 1. 封装 message 到template 里面，如果用户没有提供message，用默认的template封装\n",
    "    # try：、、 sleep 5 s, try 3 次失败返回None\n",
    "    # 2. 输入到API(model 默认是gpt40)\n",
    "    \n",
    "    \n",
    "    client = OpenAI(\n",
    "    api_key = ak,\n",
    "    base_url = url,\n",
    "    )\n",
    "\n",
    "\n",
    "    messages=template if message is None \\\n",
    "        else [{\"role\":\"user\",\"content\":message}]\n",
    "\n",
    "    while True:\n",
    "        error_times=0\n",
    "        try:\n",
    "            response = client.chat.completions.create(\n",
    "                model=model,\n",
    "                messages=messages,\n",
    "                **kwargs\n",
    "            )\n",
    "            return response.choices[0].message.content\n",
    "        except Exception as e:\n",
    "            if error_times==3:break\n",
    "            print(f\"发生错误: {str(e)}\")\n",
    "            print(\"5秒后重试...\")\n",
    "            time.sleep(5)\n",
    "            error_times+=1\n",
    "\n",
    "    print(\"询问失败! 返回 None\")\n",
    "\n",
    "def compare_answers_o1(target, output, question, task_labels):\n",
    "    query=f\"<question>{question}\\n<response>{output}\\n<golden>{target}\"\n",
    "    template=[{'role':'system','content':DOUBAO_TEMPLATES},\n",
    "              {'role':'user','content':\"<question>Where was Marry before afternoon?\\n<response>Marry was in the bedroom.**Step 1.Marry went to the playground in the\\n<golden>bedroom\"},\n",
    "              {'role':'assistant','content':'True'},\n",
    "              {'role':'user','content':query}]\n",
    "\n",
    "\n",
    "    output=chat(template=template,max_tokens=5)\n",
    "\n",
    "    if \"true\" in output.lower():\n",
    "        return True\n",
    "    return False\n",
    "\n"
   ]
  },
  {
   "cell_type": "code",
   "execution_count": 32,
   "id": "2c14d926",
   "metadata": {},
   "outputs": [
    {
     "name": "stdout",
     "output_type": "stream",
     "text": [
      "Exists: ././babilong_evals/doubao4k/qa3_8k_instruction_yes_examples_yes_post_prompt_yes_chat_template_yes_doubao_eval.csv\n",
      "Exists: ././babilong_evals/doubao4k/qa3_16k_instruction_yes_examples_yes_post_prompt_yes_chat_template_yes_doubao_eval.csv\n",
      "Exists: ././babilong_evals/doubao4k/qa3_32k_instruction_yes_examples_yes_post_prompt_yes_chat_template_yes_doubao_eval.csv\n",
      "Exists: ././babilong_evals/doubao4k/qa3_64k_instruction_yes_examples_yes_post_prompt_yes_chat_template_yes_doubao_eval.csv\n",
      "Exists: ././babilong_evals/doubao4k/Qwen-qa3_8k_instruction_yes_examples_yes_post_prompt_yes_chat_template_yes_doubao_eval.csv\n",
      "Exists: ././babilong_evals/doubao4k/Qwen-qa3_16k_instruction_yes_examples_yes_post_prompt_yes_chat_template_yes_doubao_eval.csv\n",
      "Exists: ././babilong_evals/doubao4k/Qwen-qa3_32k_instruction_yes_examples_yes_post_prompt_yes_chat_template_yes_doubao_eval.csv\n",
      "Exists: ././babilong_evals/doubao4k/Qwen-qa3_64k_instruction_yes_examples_yes_post_prompt_yes_chat_template_yes_doubao_eval.csv\n"
     ]
    },
    {
     "data": {
      "image/png": "[encoded data removed]",
      "text/plain": [
       "<Figure size 500x350 with 2 Axes>"
      ]
     },
     "metadata": {},
     "output_type": "display_data"
    }
   ],
   "source": [
    "results_folder = './babilong_evals'\n",
    "model_name = 'doubao4k'\n",
    "prompt_name = 'instruction_yes_examples_yes_post_prompt_yes_chat_template_yes'\n",
    "\n",
    "ids=[1,2]\n",
    "\n",
    "dfs=[contents[i] for i in ids]\n",
    "tasks = [contents[i][0]['task'] for i in ids]\n",
    "tasks[1]='Qwen-'+ tasks[1]\n",
    "ylabels=[os.path.basename(data_paths[i]) for i in ids]\n",
    "lengths = ['8k','16k','32k','64k']\n",
    "accuracy = np.zeros((len(tasks), len(lengths)))\n",
    "for j, task in enumerate(tasks):\n",
    "    for i, ctx_length in enumerate(lengths):\n",
    "        ptask=task.split('-')[-1]\n",
    "        if os.path.exists(f'./{results_folder}/{model_name}/{task}_{ctx_length}_{prompt_name}_doubao_eval.csv'):\n",
    "            print(\"Exists:\",f'./{results_folder}/{model_name}/{task}_{ctx_length}_{prompt_name}_doubao_eval.csv')\n",
    "            \n",
    "            df=pd.read_csv(f'./{results_folder}/{model_name}/{task}_{ctx_length}_{prompt_name}_doubao_eval.csv')\n",
    "            score=df['correct'].sum()\n",
    "            accuracy[j, i] = 100 * score / len(df) if len(df) > 0 else 0\n",
    "            continue\n",
    "        fname = f'./{results_folder}/{model_name}/{task}_{ctx_length}_{prompt_name}.csv'\n",
    "\n",
    "\n",
    "        df_list = [k for k in dfs[j] if k['ctx_length']==ctx_length]\n",
    "        if len(df_list)==0:\n",
    "            print(f'No such file: {fname}')\n",
    "            continue\n",
    "        # if df['output'].dtype != object:\n",
    "        #     df['output'] = df['output'].astype(str)\n",
    "        # df['output'] = df['output'].fillna('')\n",
    "        dic={}\n",
    "        for k in df_list[0].keys():\n",
    "            lst=[]\n",
    "            for t in range(len(df_list)):\n",
    "                lst+=[df_list[t][k]]\n",
    "            dic[k]=lst\n",
    "        df=pd.DataFrame(dic)\n",
    "\n",
    "        score=0\n",
    "        answers=[]\n",
    "        for l in tqdm(range(len(df))):\n",
    "            row=df.iloc[l]\n",
    "            answers+=[int( max(compare_answers_o1(row['golden'], row['pred'][idx],\n",
    "                                                             row['question'], TASK_LABELS[ptask]\n",
    "                                                             ) for idx in range(len(row['pred']))\n",
    "                                                             ))]\n",
    "            score+=answers[-1]\n",
    "            # break\n",
    "        df['correct']=answers\n",
    "        df.to_csv(f'./{results_folder}/{model_name}/{task}_{ctx_length}_{prompt_name}_doubao_eval.csv')\n",
    "        # df['correct'] = df.apply(lambda row: max(compare_answers_o1(row['golden'], row['pred'][idx],\n",
    "        #                                                      row['question'], TASK_LABELS[task]\n",
    "        #                                                      ) for idx in range(len(row['pred']))\n",
    "        #                                                      ), axis=1)\n",
    "        # score = df['correct'].sum()\n",
    "        accuracy[j, i] = 100 * score / len(df) if len(df) > 0 else 0\n",
    "\n",
    "# Set large font sizes for better visibility in the PDF\n",
    "matplotlib.rc('font', size=14)\n",
    "\n",
    "# Create a colormap for the heatmap\n",
    "cmap = LinearSegmentedColormap.from_list('ryg', [\"red\", \"yellow\", \"green\"], N=256)\n",
    "\n",
    "# Create the heatmap\n",
    "fig, ax = plt.subplots(figsize=(5, 3.5))  # Adjust the size as necessary\n",
    "sns.heatmap(accuracy, cmap=cmap, vmin=0, vmax=100, annot=True, fmt=\".0f\",\n",
    "            linewidths=.5, xticklabels=lengths, yticklabels=ylabels, ax=ax)\n",
    "ax.set_title(f'Performance of {model_name} \\n on BABILong \\n')\n",
    "ax.set_xlabel('Context size')\n",
    "ax.set_ylabel('Tasks')\n",
    "\n",
    "# Save the figure to a PDF\n",
    "# plt.savefig('all_tasks_performance.pdf', bbox_inches='tight')\n",
    "plt.show()"
   ]
  },
  {
   "cell_type": "code",
   "execution_count": null,
   "id": "7aa40ebb",
   "metadata": {},
   "outputs": [],
   "source": [
    "nn.Module._hook_rss_memory_pre_forward"
   ]
  },
  {
   "cell_type": "code",
   "execution_count": 20,
   "id": "764c6cb9",
   "metadata": {},
   "outputs": [],
   "source": [
    "df.to_csv(f'{results_folder}/{model_name}/{task}_{ctx_length}_{prompt_name}_doubao_eval.csv')"
   ]
  },
  {
   "cell_type": "code",
   "execution_count": 26,
   "id": "a9897543",
   "metadata": {},
   "outputs": [
    {
     "data": {
      "text/plain": [
       "'/data/zecheng/acl2025/MyRLHF/evaluation/babilong/babilong_evals/doubao4k/qa3_8k_instruction_yes_examples_yes_post_prompt_yes_chat_template_yes_doubao_eval.csv'"
      ]
     },
     "execution_count": 26,
     "metadata": {},
     "output_type": "execute_result"
    }
   ],
   "source": [
    "os.path.abspath(f'{results_folder}/{model_name}/{task}_{ctx_length}_{prompt_name}_doubao_eval.csv')"
   ]
  },
  {
   "cell_type": "code",
   "execution_count": null,
   "id": "0a5023b3",
   "metadata": {},
   "outputs": [],
   "source": []
  }
 ],
 "metadata": {
  "kernelspec": {
   "display_name": "zecheng",
   "language": "python",
   "name": "python3"
  },
  "language_info": {
   "codemirror_mode": {
    "name": "ipython",
    "version": 3
   },
   "file_extension": ".py",
   "mimetype": "text/x-python",
   "name": "python",
   "nbconvert_exporter": "python",
   "pygments_lexer": "ipython3",
   "version": "3.10.14"
  }
 },
 "nbformat": 4,
 "nbformat_minor": 5
}
