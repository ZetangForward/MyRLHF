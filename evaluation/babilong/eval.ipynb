{
 "cells": [
  {
   "cell_type": "code",
   "execution_count": 1,
   "metadata": {},
   "outputs": [
    {
     "name": "stderr",
     "output_type": "stream",
     "text": [
      "/mnt/petrelfs/tangzecheng/anaconda3/envs/zecheng_new/lib/python3.10/site-packages/tqdm/auto.py:21: TqdmWarning: IProgress not found. Please update jupyter and ipywidgets. See https://ipywidgets.readthedocs.io/en/stable/user_install.html\n",
      "  from .autonotebook import tqdm as notebook_tqdm\n",
      "\u001b[32m2024-11-28 12:00:23.602\u001b[0m | \u001b[1mINFO    \u001b[0m | \u001b[36mmodelzipper.tutils\u001b[0m:\u001b[36mauto_read_data\u001b[0m:\u001b[36m182\u001b[0m - \u001b[1mbegin to read data from /mnt/petrelfs/tangzecheng/local_data/inference_results/llama-3_1-8B-Instruct/babilong/reasoning/preds_babilong.jsonl | file size: 563.44 KB | file type: jsonl\u001b[0m\n"
     ]
    },
    {
     "name": "stdout",
     "output_type": "stream",
     "text": [
      "\u001b[4m\u001b[36mModelZipper is ready for launch🚀 | Current Version🦄 >>> 0.2.7 <<< | AOE Time🕒 2024-11-28 16:00:23\u001b[0m\n"
     ]
    }
   ],
   "source": [
    "from modelzipper.tutils import *\n",
    "\n",
    "pred = auto_read_data(\"/mnt/petrelfs/tangzecheng/local_data/inference_results/llama-3_1-8B-Instruct/babilong/reasoning/preds_babilong.jsonl\")"
   ]
  },
  {
   "cell_type": "code",
   "execution_count": 5,
   "metadata": {},
   "outputs": [
    {
     "data": {
      "text/plain": [
       "[{'golden': 'kitchen',\n",
       "  'task': 'qa3',\n",
       "  'ctx_length': '4k',\n",
       "  'pred': ['Before the garden the football was in the office.']},\n",
       " {'golden': 'bathroom',\n",
       "  'task': 'qa3',\n",
       "  'ctx_length': '4k',\n",
       "  'pred': ['Before the kitchen the apple was in the hallway.']},\n",
       " {'golden': 'kitchen',\n",
       "  'task': 'qa3',\n",
       "  'ctx_length': '4k',\n",
       "  'pred': ['Before the garden the apple was in the office.']},\n",
       " {'golden': 'garden',\n",
       "  'task': 'qa3',\n",
       "  'ctx_length': '4k',\n",
       "  'pred': ['Before the bedroom the apple was in the garden.']},\n",
       " {'golden': 'kitchen',\n",
       "  'task': 'qa3',\n",
       "  'ctx_length': '4k',\n",
       "  'pred': ['Before the bathroom the football was in the office.']},\n",
       " {'golden': 'office',\n",
       "  'task': 'qa3',\n",
       "  'ctx_length': '4k',\n",
       "  'pred': ['Before the hallway the football was in the office.']},\n",
       " {'golden': 'garden',\n",
       "  'task': 'qa3',\n",
       "  'ctx_length': '4k',\n",
       "  'pred': ['Before the bathroom the apple was in the garden.']},\n",
       " {'golden': 'office',\n",
       "  'task': 'qa3',\n",
       "  'ctx_length': '4k',\n",
       "  'pred': ['Before the bathroom the milk was in the hallway.']},\n",
       " {'golden': 'hallway',\n",
       "  'task': 'qa3',\n",
       "  'ctx_length': '4k',\n",
       "  'pred': ['Before the bathroom the apple was in the office.']},\n",
       " {'golden': 'kitchen',\n",
       "  'task': 'qa3',\n",
       "  'ctx_length': '4k',\n",
       "  'pred': ['Before the garden the milk was in the office.']},\n",
       " {'golden': 'kitchen',\n",
       "  'task': 'qa3',\n",
       "  'ctx_length': '4k',\n",
       "  'pred': ['Before the bedroom the milk was in the kitchen.']},\n",
       " {'golden': 'garden',\n",
       "  'task': 'qa3',\n",
       "  'ctx_length': '4k',\n",
       "  'pred': ['Before the hallway the football was in the bedroom.']},\n",
       " {'golden': 'hallway',\n",
       "  'task': 'qa3',\n",
       "  'ctx_length': '4k',\n",
       "  'pred': ['Before the kitchen the milk was in the hallway.']},\n",
       " {'golden': 'bedroom',\n",
       "  'task': 'qa3',\n",
       "  'ctx_length': '4k',\n",
       "  'pred': ['Before the bathroom the apple was in the bedroom.']},\n",
       " {'golden': 'bedroom',\n",
       "  'task': 'qa3',\n",
       "  'ctx_length': '4k',\n",
       "  'pred': ['Before the bathroom the apple was in the office.']},\n",
       " {'golden': 'kitchen',\n",
       "  'task': 'qa3',\n",
       "  'ctx_length': '4k',\n",
       "  'pred': ['Before the office the milk was in the kitchen.']},\n",
       " {'golden': 'bedroom',\n",
       "  'task': 'qa3',\n",
       "  'ctx_length': '4k',\n",
       "  'pred': ['Before the kitchen the milk was in the office.']},\n",
       " {'golden': 'bathroom',\n",
       "  'task': 'qa3',\n",
       "  'ctx_length': '4k',\n",
       "  'pred': ['Before the kitchen the football was in the bathroom.']},\n",
       " {'golden': 'garden',\n",
       "  'task': 'qa3',\n",
       "  'ctx_length': '4k',\n",
       "  'pred': ['Before the office the milk was in the bathroom.']},\n",
       " {'golden': 'bathroom',\n",
       "  'task': 'qa3',\n",
       "  'ctx_length': '4k',\n",
       "  'pred': ['Before the bedroom the football was in the office.']}]"
      ]
     },
     "execution_count": 5,
     "metadata": {},
     "output_type": "execute_result"
    }
   ],
   "source": [
    "qa3_task_res = [item for item in pred if item[\"task\"] == \"qa3\"]\n",
    "\n",
    "qa3_task_res[:20]"
   ]
  }
 ],
 "metadata": {
  "kernelspec": {
   "display_name": "zecheng_new",
   "language": "python",
   "name": "python3"
  },
  "language_info": {
   "codemirror_mode": {
    "name": "ipython",
    "version": 3
   },
   "file_extension": ".py",
   "mimetype": "text/x-python",
   "name": "python",
   "nbconvert_exporter": "python",
   "pygments_lexer": "ipython3",
   "version": "3.10.4"
  }
 },
 "nbformat": 4,
 "nbformat_minor": 2
}
