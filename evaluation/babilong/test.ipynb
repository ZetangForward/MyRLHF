{
 "cells": [
  {
   "cell_type": "code",
   "execution_count": 1,
   "metadata": {},
   "outputs": [
    {
     "name": "stdout",
     "output_type": "stream",
     "text": [
      "\u001b[35mbegin to read data from /data/zecheng/acl2025/MyRLHF/evaluation/babilong/llama-3_1-8B-Instruct/preliminary/preds_o1-llama-3_1-8B-Instruct_top_p.pkl | file size: 26.28 MB | file type: pkl\u001b[0m\n"
     ]
    }
   ],
   "source": [
    "from modelzipper.tutils import *\n",
    "\n",
    "content = auto_read_data(\"/data/zecheng/acl2025/MyRLHF/evaluation/babilong/llama-3_1-8B-Instruct/preliminary/preds_o1-llama-3_1-8B-Instruct_top_p.pkl\")"
   ]
  },
  {
   "cell_type": "code",
   "execution_count": 2,
   "metadata": {},
   "outputs": [
    {
     "data": {
      "text/plain": [
       "{'golden': 'bathroom',\n",
       " 'task': 'qa3',\n",
       " 'reference_list': [' Sandra went back to the bathroom.',\n",
       "  ' Sandra journeyed to the kitchen.',\n",
       "  ' Sandra left the football.'],\n",
       " 'ctx_length': '8k',\n",
       " 'question': 'Where was the football before the kitchen? ',\n",
       " 'all_facts': ['Sandra went back to the bathroom.',\n",
       "  'Sandra journeyed to the kitchen.',\n",
       "  'Sandra left the football.'],\n",
       " 'pred': ['**Step 1: Identify the relevant information about Sandra and the football**\\n<thinking> Sandra journeyed to the kitchen, but before that, we need to find out where she was before the kitchen, which is the location we are interested in for the football. Sandra journeyed to the kitchen, but the relevant information for the football is before the journey to the kitchen, which is Sandra journeyed to the garden, Sandra journeyed to the bedroom, Sandra journeyed to the bathroom, Sandra journeyed to the garden, Sandra journeyed to the bedroom, Sandra journeyed to the garden, Sandra journeyed to the bedroom, Sandra journeyed to the garden, Sandra journeyed to the bedroom, Sandra journeyed to the garden, Sandra journeyed to the bedroom, Sandra journeyed to the garden, Sandra journeyed to the bedroom, Sandra journeyed to the garden, Sandra journeyed to the bedroom, Sandra journeyed to the garden, Sandra journeyed to the bedroom, Sandra journeyed to the garden, Sandra journeyed to the bedroom, Sandra journeyed to the garden, Sandra journeyed to the bedroom, Sandra journeyed to the garden, Sandra journeyed to the bedroom, Sandra journeyed to the garden, Sandra journeyed to the bedroom, Sandra journeyed to the garden, Sandra journeyed to the bedroom, Sandra journeyed to the garden, Sandra journeyed to the bedroom, Sandra journeyed to the garden, Sandra journeyed to the bedroom, Sandra journeyed to the garden, Sandra journeyed to the bedroom, Sandra journeyed to the garden, Sandra journeyed to the bedroom, Sandra journeyed to the garden, Sandra journeyed to the bedroom, Sandra journeyed to the garden, Sandra journeyed to the bedroom, Sandra journeyed to the garden, Sandra journeyed to the bedroom, Sandra journeyed to the garden, Sandra journeyed to the bedroom, Sandra journeyed to the garden, Sandra journeyed to the bedroom, Sandra journeyed to the garden, Sandra journeyed to the bedroom, Sandra journeyed to the garden, Sandra journeyed to the bedroom, Sandra journeyed to the garden, Sandra journeyed to the bedroom, Sandra journeyed to the garden, Sandra journeyed to the bedroom, Sandra journeyed to the garden, Sandra journeyed to the bedroom, Sandra journeyed to the garden, Sandra journeyed to the bedroom, Sandra journeyed to the garden, Sandra journeyed to the bedroom, Sandra journeyed to the garden, Sandra journeyed to the bedroom, Sandra journeyed to the garden, Sandra']}"
      ]
     },
     "execution_count": 2,
     "metadata": {},
     "output_type": "execute_result"
    }
   ],
   "source": [
    "content[0]"
   ]
  }
 ],
 "metadata": {
  "language_info": {
   "name": "python"
  }
 },
 "nbformat": 4,
 "nbformat_minor": 2
}
